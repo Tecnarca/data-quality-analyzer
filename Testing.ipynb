{
 "cells": [
  {
   "cell_type": "code",
   "execution_count": 1,
   "metadata": {},
   "outputs": [],
   "source": [
    "from pyspark import SparkContext, SparkConf\n",
    "import pandas as pd"
   ]
  },
  {
   "cell_type": "code",
   "execution_count": 2,
   "metadata": {},
   "outputs": [
    {
     "data": {
      "text/plain": [
       "array(['foo', 'bar'], dtype=object)"
      ]
     },
     "execution_count": 2,
     "metadata": {},
     "output_type": "execute_result"
    }
   ],
   "source": [
    "import pandas as pd\n",
    "p_df = pd.DataFrame([(\"foo\", 1), (\"bar\", 2), (\"foo\", 3)], columns=(\"k\", \"v\"))\n",
    "p_df['k'].unique()"
   ]
  },
  {
   "cell_type": "code",
   "execution_count": 3,
   "metadata": {},
   "outputs": [
    {
     "data": {
      "text/html": [
       "<div>\n",
       "<style scoped>\n",
       "    .dataframe tbody tr th:only-of-type {\n",
       "        vertical-align: middle;\n",
       "    }\n",
       "\n",
       "    .dataframe tbody tr th {\n",
       "        vertical-align: top;\n",
       "    }\n",
       "\n",
       "    .dataframe thead th {\n",
       "        text-align: right;\n",
       "    }\n",
       "</style>\n",
       "<table border=\"1\" class=\"dataframe\">\n",
       "  <thead>\n",
       "    <tr style=\"text-align: right;\">\n",
       "      <th></th>\n",
       "      <th>CODLINHA</th>\n",
       "      <th>NOMELINHA</th>\n",
       "      <th>CODVEICULO</th>\n",
       "      <th>NUMEROCARTAO</th>\n",
       "      <th>DATAUTILIZACAO</th>\n",
       "    </tr>\n",
       "  </thead>\n",
       "  <tbody>\n",
       "    <tr>\n",
       "      <th>0</th>\n",
       "      <td>280</td>\n",
       "      <td>N. SRA.DE NAZARÉ</td>\n",
       "      <td>BC911</td>\n",
       "      <td>1430250</td>\n",
       "      <td>07/10/15 07:37:02</td>\n",
       "    </tr>\n",
       "    <tr>\n",
       "      <th>1</th>\n",
       "      <td>280</td>\n",
       "      <td>N. SRA.DE NAZARÉ</td>\n",
       "      <td>BC911</td>\n",
       "      <td>2470195</td>\n",
       "      <td>07/10/15 07:51:25</td>\n",
       "    </tr>\n",
       "    <tr>\n",
       "      <th>2</th>\n",
       "      <td>280</td>\n",
       "      <td>N. SRA.DE NAZARÉ</td>\n",
       "      <td>BC911</td>\n",
       "      <td>3234514</td>\n",
       "      <td>07/10/15 18:49:49</td>\n",
       "    </tr>\n",
       "    <tr>\n",
       "      <th>3</th>\n",
       "      <td>280</td>\n",
       "      <td>N. SRA.DE NAZARÉ</td>\n",
       "      <td>BC911</td>\n",
       "      <td>3234514</td>\n",
       "      <td>07/10/15 18:49:51</td>\n",
       "    </tr>\n",
       "    <tr>\n",
       "      <th>4</th>\n",
       "      <td>000</td>\n",
       "      <td>OPER S/LINHA</td>\n",
       "      <td>08047</td>\n",
       "      <td>771305</td>\n",
       "      <td>07/10/15 16:47:16</td>\n",
       "    </tr>\n",
       "  </tbody>\n",
       "</table>\n",
       "</div>"
      ],
      "text/plain": [
       "  CODLINHA         NOMELINHA CODVEICULO  NUMEROCARTAO     DATAUTILIZACAO\n",
       "0      280  N. SRA.DE NAZARÉ      BC911       1430250  07/10/15 07:37:02\n",
       "1      280  N. SRA.DE NAZARÉ      BC911       2470195  07/10/15 07:51:25\n",
       "2      280  N. SRA.DE NAZARÉ      BC911       3234514  07/10/15 18:49:49\n",
       "3      280  N. SRA.DE NAZARÉ      BC911       3234514  07/10/15 18:49:51\n",
       "4      000      OPER S/LINHA      08047        771305  07/10/15 16:47:16"
      ]
     },
     "execution_count": 3,
     "metadata": {},
     "output_type": "execute_result"
    }
   ],
   "source": [
    "df_pandas = pd.read_csv(\"Dati/doc1-2015100810.csv\")\n",
    "df_pandas.head(5)"
   ]
  },
  {
   "cell_type": "markdown",
   "metadata": {},
   "source": [
    "# Getting Started"
   ]
  },
  {
   "cell_type": "code",
   "execution_count": 4,
   "metadata": {},
   "outputs": [],
   "source": [
    "from pyspark.sql import SparkSession\n",
    "\n",
    "spark = SparkSession \\\n",
    "    .builder \\\n",
    "    .appName(\"Python Spark SQL basic example\") \\\n",
    "    .config(\"spark.some.config.option\", \"some-value\") \\\n",
    "    .getOrCreate()"
   ]
  },
  {
   "cell_type": "markdown",
   "metadata": {},
   "source": [
    "### how to create a Dataframe in pyspark"
   ]
  },
  {
   "cell_type": "code",
   "execution_count": 5,
   "metadata": {},
   "outputs": [],
   "source": [
    "s_df = spark.createDataFrame([(\"foo\", 1), (\"bar\", 2), (\"foo\", 3)], ('k', 'v'))"
   ]
  },
  {
   "cell_type": "markdown",
   "metadata": {},
   "source": [
    "### Read csv (as a dataframe) and show it"
   ]
  },
  {
   "cell_type": "code",
   "execution_count": 6,
   "metadata": {},
   "outputs": [],
   "source": [
    "df = spark.read.csv(\"Dati/doc1-2015100810.csv\", header = True)"
   ]
  },
  {
   "cell_type": "code",
   "execution_count": 7,
   "metadata": {},
   "outputs": [
    {
     "name": "stdout",
     "output_type": "stream",
     "text": [
      "+--------+----------------+----------+------------+-----------------+\n",
      "|CODLINHA|       NOMELINHA|CODVEICULO|NUMEROCARTAO|   DATAUTILIZACAO|\n",
      "+--------+----------------+----------+------------+-----------------+\n",
      "|     280|N. SRA.DE NAZARÉ|     BC911|  0001430250|07/10/15 07:37:02|\n",
      "|     280|N. SRA.DE NAZARÉ|     BC911|  0002470195|07/10/15 07:51:25|\n",
      "|     280|N. SRA.DE NAZARÉ|     BC911|  0003234514|07/10/15 18:49:49|\n",
      "|     280|N. SRA.DE NAZARÉ|     BC911|  0003234514|07/10/15 18:49:51|\n",
      "|     000|    OPER S/LINHA|     08047|  0000771305|07/10/15 16:47:16|\n",
      "|     000|    OPER S/LINHA|     08047|  0000856665|07/10/15 16:50:18|\n",
      "|     629|  ALTO BOQUEIRÃO|     KA603|  0002115218|07/10/15 13:18:26|\n",
      "|     629|  ALTO BOQUEIRÃO|     KA603|  0002178679|07/10/15 14:18:59|\n",
      "|     629|  ALTO BOQUEIRÃO|     KA603|  0000849493|07/10/15 14:40:56|\n",
      "|     629|  ALTO BOQUEIRÃO|     KA603|  0000849493|07/10/15 14:41:05|\n",
      "|     629|  ALTO BOQUEIRÃO|     KA603|  0002202962|07/10/15 16:48:12|\n",
      "|     629|  ALTO BOQUEIRÃO|     KA603|  0001839942|07/10/15 18:13:05|\n",
      "|     814|       MOSSUNGUÊ|     LN404|  0003527951|07/10/15 17:07:31|\n",
      "|     814|       MOSSUNGUÊ|     LN404|  0001188263|07/10/15 17:46:36|\n",
      "|     814|       MOSSUNGUÊ|     LN404|  0003260485|07/10/15 17:53:46|\n",
      "|     814|       MOSSUNGUÊ|     LN404|  0002970828|07/10/15 21:27:45|\n",
      "|     629|  ALTO BOQUEIRÃO|     KA603|  0003528264|07/10/15 19:25:55|\n",
      "|     629|  ALTO BOQUEIRÃO|     KA603|  0003528264|07/10/15 19:25:58|\n",
      "|     653|          SABARÁ|     HA293|  0003410298|07/10/15 16:15:46|\n",
      "|     653|          SABARÁ|     HA293|  0002471107|07/10/15 18:44:03|\n",
      "+--------+----------------+----------+------------+-----------------+\n",
      "only showing top 20 rows\n",
      "\n"
     ]
    }
   ],
   "source": [
    "df.show()"
   ]
  },
  {
   "cell_type": "code",
   "execution_count": 8,
   "metadata": {},
   "outputs": [
    {
     "name": "stdout",
     "output_type": "stream",
     "text": [
      "root\n",
      " |-- CODLINHA: string (nullable = true)\n",
      " |-- NOMELINHA: string (nullable = true)\n",
      " |-- CODVEICULO: string (nullable = true)\n",
      " |-- NUMEROCARTAO: string (nullable = true)\n",
      " |-- DATAUTILIZACAO: string (nullable = true)\n",
      "\n"
     ]
    }
   ],
   "source": [
    "# spark, df are from the previous example\n",
    "# Print the schema in a tree format\n",
    "df.printSchema()"
   ]
  },
  {
   "cell_type": "code",
   "execution_count": 9,
   "metadata": {},
   "outputs": [
    {
     "name": "stdout",
     "output_type": "stream",
     "text": [
      "+--------+\n",
      "|codlinha|\n",
      "+--------+\n",
      "|     280|\n",
      "|     280|\n",
      "|     280|\n",
      "|     280|\n",
      "|     000|\n",
      "|     000|\n",
      "|     629|\n",
      "|     629|\n",
      "|     629|\n",
      "|     629|\n",
      "|     629|\n",
      "|     629|\n",
      "|     814|\n",
      "|     814|\n",
      "|     814|\n",
      "|     814|\n",
      "|     629|\n",
      "|     629|\n",
      "|     653|\n",
      "|     653|\n",
      "+--------+\n",
      "only showing top 20 rows\n",
      "\n"
     ]
    }
   ],
   "source": [
    "# Select only the \"codlinha\" column\n",
    "df.select(\"codlinha\").show()"
   ]
  },
  {
   "cell_type": "code",
   "execution_count": 10,
   "metadata": {},
   "outputs": [
    {
     "name": "stdout",
     "output_type": "stream",
     "text": [
      "+--------+----------------+\n",
      "|codlinha|       nomelinha|\n",
      "+--------+----------------+\n",
      "|     280|N. SRA.DE NAZARÉ|\n",
      "|     280|N. SRA.DE NAZARÉ|\n",
      "|     280|N. SRA.DE NAZARÉ|\n",
      "|     280|N. SRA.DE NAZARÉ|\n",
      "|     000|    OPER S/LINHA|\n",
      "|     000|    OPER S/LINHA|\n",
      "|     629|  ALTO BOQUEIRÃO|\n",
      "|     629|  ALTO BOQUEIRÃO|\n",
      "|     629|  ALTO BOQUEIRÃO|\n",
      "|     629|  ALTO BOQUEIRÃO|\n",
      "|     629|  ALTO BOQUEIRÃO|\n",
      "|     629|  ALTO BOQUEIRÃO|\n",
      "|     814|       MOSSUNGUÊ|\n",
      "|     814|       MOSSUNGUÊ|\n",
      "|     814|       MOSSUNGUÊ|\n",
      "|     814|       MOSSUNGUÊ|\n",
      "|     629|  ALTO BOQUEIRÃO|\n",
      "|     629|  ALTO BOQUEIRÃO|\n",
      "|     653|          SABARÁ|\n",
      "|     653|          SABARÁ|\n",
      "+--------+----------------+\n",
      "only showing top 20 rows\n",
      "\n"
     ]
    }
   ],
   "source": [
    "df.select(df['codlinha'], df['nomelinha']).show()"
   ]
  },
  {
   "cell_type": "code",
   "execution_count": 11,
   "metadata": {},
   "outputs": [
    {
     "name": "stdout",
     "output_type": "stream",
     "text": [
      "+--------+----------------+----------+------------+-----------------+\n",
      "|CODLINHA|       NOMELINHA|CODVEICULO|NUMEROCARTAO|   DATAUTILIZACAO|\n",
      "+--------+----------------+----------+------------+-----------------+\n",
      "|     280|N. SRA.DE NAZARÉ|     BC911|  0001430250|07/10/15 07:37:02|\n",
      "|     280|N. SRA.DE NAZARÉ|     BC911|  0002470195|07/10/15 07:51:25|\n",
      "|     280|N. SRA.DE NAZARÉ|     BC911|  0003234514|07/10/15 18:49:49|\n",
      "|     280|N. SRA.DE NAZARÉ|     BC911|  0003234514|07/10/15 18:49:51|\n",
      "|     280|N. SRA.DE NAZARÉ|     BC947|  0001426341|07/10/15 17:55:07|\n",
      "|     280|N. SRA.DE NAZARÉ|     BN602|  0001282115|07/10/15 06:29:09|\n",
      "|     280|N. SRA.DE NAZARÉ|     BN602|  0002883432|07/10/15 15:19:38|\n",
      "|     280|N. SRA.DE NAZARÉ|     BN602|  0002883432|07/10/15 15:19:43|\n",
      "|     280|N. SRA.DE NAZARÉ|     BN602|  0003530435|07/10/15 19:22:40|\n",
      "|     280|N. SRA.DE NAZARÉ|     BN602|  0002025345|07/10/15 22:58:12|\n",
      "|     280|N. SRA.DE NAZARÉ|     BN602|  0003253117|07/10/15 16:44:16|\n",
      "|     280|N. SRA.DE NAZARÉ|     BC911|  0003271986|07/10/15 11:57:16|\n",
      "|     280|N. SRA.DE NAZARÉ|     BC947|  0003268390|07/10/15 18:12:45|\n",
      "|     280|N. SRA.DE NAZARÉ|     BC911|  0000312500|07/10/15 08:49:40|\n",
      "|     280|N. SRA.DE NAZARÉ|     BC911|  0001627536|07/10/15 12:28:08|\n",
      "|     280|N. SRA.DE NAZARÉ|     BN602|  0002270052|07/10/15 11:55:10|\n",
      "|     280|N. SRA.DE NAZARÉ|     BC947|  0003006362|07/10/15 18:12:58|\n",
      "|     280|N. SRA.DE NAZARÉ|     BC911|  0001135579|07/10/15 12:32:46|\n",
      "|     280|N. SRA.DE NAZARÉ|     BC911|  0002239405|07/10/15 07:43:42|\n",
      "|     280|N. SRA.DE NAZARÉ|     BC911|  0003387236|07/10/15 07:42:42|\n",
      "+--------+----------------+----------+------------+-----------------+\n",
      "only showing top 20 rows\n",
      "\n"
     ]
    }
   ],
   "source": [
    "df.filter(df['codlinha'] == \"280\").show()"
   ]
  },
  {
   "cell_type": "code",
   "execution_count": 12,
   "metadata": {
    "scrolled": true
   },
   "outputs": [
    {
     "name": "stdout",
     "output_type": "stream",
     "text": [
      "+--------+-----+\n",
      "|codlinha|count|\n",
      "+--------+-----+\n",
      "|     467|  608|\n",
      "|     829| 1098|\n",
      "|     870| 2228|\n",
      "|     666|  664|\n",
      "|     TXA|  711|\n",
      "|     475| 1390|\n",
      "|     718|  398|\n",
      "|     030| 4757|\n",
      "|     205| 1711|\n",
      "|     169| 1071|\n",
      "|     334|  374|\n",
      "|     TSP|  904|\n",
      "|     462| 1935|\n",
      "|     711|  769|\n",
      "|     272|  864|\n",
      "|     470|  477|\n",
      "|     232|  805|\n",
      "|     635|  365|\n",
      "|     714|  344|\n",
      "|     ARA| 8965|\n",
      "+--------+-----+\n",
      "only showing top 20 rows\n",
      "\n"
     ]
    }
   ],
   "source": [
    "df.groupBy(\"codlinha\").count().show()"
   ]
  },
  {
   "cell_type": "code",
   "execution_count": 13,
   "metadata": {},
   "outputs": [
    {
     "name": "stdout",
     "output_type": "stream",
     "text": [
      "+--------+------+\n",
      "|codlinha| count|\n",
      "+--------+------+\n",
      "|     000|229253|\n",
      "|     OPC| 36660|\n",
      "|     ARA|  8965|\n",
      "|     040|  7288|\n",
      "|     021|  6109|\n",
      "|     020|  4839|\n",
      "|     216|  4808|\n",
      "|     030|  4757|\n",
      "|     050|  4420|\n",
      "|     541|  3083|\n",
      "|     650|  2957|\n",
      "|     703|  2906|\n",
      "|     TPH|  2659|\n",
      "|     860|  2566|\n",
      "|     338|  2525|\n",
      "|     684|  2507|\n",
      "|     658|  2448|\n",
      "|     545|  2232|\n",
      "|     876|  2231|\n",
      "|     870|  2228|\n",
      "+--------+------+\n",
      "only showing top 20 rows\n",
      "\n"
     ]
    }
   ],
   "source": [
    "df.groupBy(\"codlinha\").count().orderBy('count', ascending=False).show()"
   ]
  },
  {
   "cell_type": "markdown",
   "metadata": {},
   "source": [
    "### Running SQL Queries Programmatically"
   ]
  },
  {
   "cell_type": "code",
   "execution_count": 14,
   "metadata": {},
   "outputs": [
    {
     "name": "stdout",
     "output_type": "stream",
     "text": [
      "+--------+----------------+----------+------------+-----------------+\n",
      "|CODLINHA|       NOMELINHA|CODVEICULO|NUMEROCARTAO|   DATAUTILIZACAO|\n",
      "+--------+----------------+----------+------------+-----------------+\n",
      "|     280|N. SRA.DE NAZARÉ|     BC911|  0001430250|07/10/15 07:37:02|\n",
      "|     280|N. SRA.DE NAZARÉ|     BC911|  0002470195|07/10/15 07:51:25|\n",
      "|     280|N. SRA.DE NAZARÉ|     BC911|  0003234514|07/10/15 18:49:49|\n",
      "|     280|N. SRA.DE NAZARÉ|     BC911|  0003234514|07/10/15 18:49:51|\n",
      "|     000|    OPER S/LINHA|     08047|  0000771305|07/10/15 16:47:16|\n",
      "|     000|    OPER S/LINHA|     08047|  0000856665|07/10/15 16:50:18|\n",
      "|     629|  ALTO BOQUEIRÃO|     KA603|  0002115218|07/10/15 13:18:26|\n",
      "|     629|  ALTO BOQUEIRÃO|     KA603|  0002178679|07/10/15 14:18:59|\n",
      "|     629|  ALTO BOQUEIRÃO|     KA603|  0000849493|07/10/15 14:40:56|\n",
      "|     629|  ALTO BOQUEIRÃO|     KA603|  0000849493|07/10/15 14:41:05|\n",
      "|     629|  ALTO BOQUEIRÃO|     KA603|  0002202962|07/10/15 16:48:12|\n",
      "|     629|  ALTO BOQUEIRÃO|     KA603|  0001839942|07/10/15 18:13:05|\n",
      "|     814|       MOSSUNGUÊ|     LN404|  0003527951|07/10/15 17:07:31|\n",
      "|     814|       MOSSUNGUÊ|     LN404|  0001188263|07/10/15 17:46:36|\n",
      "|     814|       MOSSUNGUÊ|     LN404|  0003260485|07/10/15 17:53:46|\n",
      "|     814|       MOSSUNGUÊ|     LN404|  0002970828|07/10/15 21:27:45|\n",
      "|     629|  ALTO BOQUEIRÃO|     KA603|  0003528264|07/10/15 19:25:55|\n",
      "|     629|  ALTO BOQUEIRÃO|     KA603|  0003528264|07/10/15 19:25:58|\n",
      "|     653|          SABARÁ|     HA293|  0003410298|07/10/15 16:15:46|\n",
      "|     653|          SABARÁ|     HA293|  0002471107|07/10/15 18:44:03|\n",
      "+--------+----------------+----------+------------+-----------------+\n",
      "only showing top 20 rows\n",
      "\n"
     ]
    }
   ],
   "source": [
    "# Register the DataFrame as a SQL temporary view\n",
    "df.createOrReplaceTempView(\"people\")\n",
    "\n",
    "sqlDF = spark.sql(\"SELECT * FROM people\")\n",
    "sqlDF.show()"
   ]
  },
  {
   "cell_type": "markdown",
   "metadata": {},
   "source": [
    "## SQL Timestamp"
   ]
  },
  {
   "cell_type": "code",
   "execution_count": 15,
   "metadata": {},
   "outputs": [
    {
     "name": "stdout",
     "output_type": "stream",
     "text": [
      "+--------+----------------+----------+------------+-------------------+\n",
      "|CODLINHA|       NOMELINHA|CODVEICULO|NUMEROCARTAO|     datautilizacao|\n",
      "+--------+----------------+----------+------------+-------------------+\n",
      "|     280|N. SRA.DE NAZARÉ|     BC911|  0001430250|2015-10-07 07:37:02|\n",
      "|     280|N. SRA.DE NAZARÉ|     BC911|  0002470195|2015-10-07 07:51:25|\n",
      "|     280|N. SRA.DE NAZARÉ|     BC911|  0003234514|2015-10-07 18:49:49|\n",
      "|     280|N. SRA.DE NAZARÉ|     BC911|  0003234514|2015-10-07 18:49:51|\n",
      "|     000|    OPER S/LINHA|     08047|  0000771305|2015-10-07 16:47:16|\n",
      "|     000|    OPER S/LINHA|     08047|  0000856665|2015-10-07 16:50:18|\n",
      "|     629|  ALTO BOQUEIRÃO|     KA603|  0002115218|2015-10-07 13:18:26|\n",
      "|     629|  ALTO BOQUEIRÃO|     KA603|  0002178679|2015-10-07 14:18:59|\n",
      "|     629|  ALTO BOQUEIRÃO|     KA603|  0000849493|2015-10-07 14:40:56|\n",
      "|     629|  ALTO BOQUEIRÃO|     KA603|  0000849493|2015-10-07 14:41:05|\n",
      "|     629|  ALTO BOQUEIRÃO|     KA603|  0002202962|2015-10-07 16:48:12|\n",
      "|     629|  ALTO BOQUEIRÃO|     KA603|  0001839942|2015-10-07 18:13:05|\n",
      "|     814|       MOSSUNGUÊ|     LN404|  0003527951|2015-10-07 17:07:31|\n",
      "|     814|       MOSSUNGUÊ|     LN404|  0001188263|2015-10-07 17:46:36|\n",
      "|     814|       MOSSUNGUÊ|     LN404|  0003260485|2015-10-07 17:53:46|\n",
      "|     814|       MOSSUNGUÊ|     LN404|  0002970828|2015-10-07 21:27:45|\n",
      "|     629|  ALTO BOQUEIRÃO|     KA603|  0003528264|2015-10-07 19:25:55|\n",
      "|     629|  ALTO BOQUEIRÃO|     KA603|  0003528264|2015-10-07 19:25:58|\n",
      "|     653|          SABARÁ|     HA293|  0003410298|2015-10-07 16:15:46|\n",
      "|     653|          SABARÁ|     HA293|  0002471107|2015-10-07 18:44:03|\n",
      "+--------+----------------+----------+------------+-------------------+\n",
      "only showing top 20 rows\n",
      "\n",
      "+--------+----------------+----------+------------+-------------------+\n",
      "|CODLINHA|       NOMELINHA|CODVEICULO|NUMEROCARTAO|     datautilizacao|\n",
      "+--------+----------------+----------+------------+-------------------+\n",
      "|     000|    OPER S/LINHA|     08047|  0000771305|2015-10-07 16:47:16|\n",
      "|     270|FERNANDO NORONHA|     BN605|  0003525169|2015-10-07 16:47:16|\n",
      "|     619| STA. RITA / CIC|     HA600|  0000983434|2015-10-07 16:47:16|\n",
      "|     OPC| OP. CONTIGENCIA|     MN402|  0003249566|2015-10-07 16:47:16|\n",
      "|     000|    OPER S/LINHA|     07020|  0001627997|2015-10-07 16:47:16|\n",
      "|     000|    OPER S/LINHA|     09029|  0002427443|2015-10-07 16:47:16|\n",
      "+--------+----------------+----------+------------+-------------------+\n",
      "\n"
     ]
    }
   ],
   "source": [
    "from pyspark.sql.functions import col, unix_timestamp, to_date, to_timestamp\n",
    "\n",
    "df_timestamp = df.withColumn('datautilizacao', to_timestamp(unix_timestamp(col('datautilizacao'), 'dd/MM/yy HH:mm:ss').cast(\"timestamp\")))\n",
    "\n",
    "df_timestamp.show()\n",
    "\n",
    "df_timestamp.createOrReplaceTempView(\"people_timestamp\")\n",
    "\n",
    "sqlDF = spark.sql(\"SELECT * FROM people_timestamp WHERE datautilizacao == '2015-10-07 16:47:16'\")\n",
    "sqlDF.show()"
   ]
  },
  {
   "cell_type": "markdown",
   "metadata": {},
   "source": [
    "### Global Temporary View"
   ]
  },
  {
   "cell_type": "markdown",
   "metadata": {},
   "source": [
    "Temporary views in Spark SQL are session-scoped and will disappear if the session that creates it terminates. If you want to have a temporary view that is shared among all sessions and keep alive until the Spark application terminates, you can create a global temporary view. Global temporary view is tied to a system preserved database global_temp, and we must use the qualified name to refer it, e.g. SELECT * FROM global_temp.view1."
   ]
  },
  {
   "cell_type": "code",
   "execution_count": 16,
   "metadata": {},
   "outputs": [
    {
     "name": "stdout",
     "output_type": "stream",
     "text": [
      "+--------+----------------+----------+------------+-----------------+\n",
      "|CODLINHA|       NOMELINHA|CODVEICULO|NUMEROCARTAO|   DATAUTILIZACAO|\n",
      "+--------+----------------+----------+------------+-----------------+\n",
      "|     280|N. SRA.DE NAZARÉ|     BC911|  0001430250|07/10/15 07:37:02|\n",
      "|     280|N. SRA.DE NAZARÉ|     BC911|  0002470195|07/10/15 07:51:25|\n",
      "|     280|N. SRA.DE NAZARÉ|     BC911|  0003234514|07/10/15 18:49:49|\n",
      "|     280|N. SRA.DE NAZARÉ|     BC911|  0003234514|07/10/15 18:49:51|\n",
      "|     000|    OPER S/LINHA|     08047|  0000771305|07/10/15 16:47:16|\n",
      "|     000|    OPER S/LINHA|     08047|  0000856665|07/10/15 16:50:18|\n",
      "|     629|  ALTO BOQUEIRÃO|     KA603|  0002115218|07/10/15 13:18:26|\n",
      "|     629|  ALTO BOQUEIRÃO|     KA603|  0002178679|07/10/15 14:18:59|\n",
      "|     629|  ALTO BOQUEIRÃO|     KA603|  0000849493|07/10/15 14:40:56|\n",
      "|     629|  ALTO BOQUEIRÃO|     KA603|  0000849493|07/10/15 14:41:05|\n",
      "|     629|  ALTO BOQUEIRÃO|     KA603|  0002202962|07/10/15 16:48:12|\n",
      "|     629|  ALTO BOQUEIRÃO|     KA603|  0001839942|07/10/15 18:13:05|\n",
      "|     814|       MOSSUNGUÊ|     LN404|  0003527951|07/10/15 17:07:31|\n",
      "|     814|       MOSSUNGUÊ|     LN404|  0001188263|07/10/15 17:46:36|\n",
      "|     814|       MOSSUNGUÊ|     LN404|  0003260485|07/10/15 17:53:46|\n",
      "|     814|       MOSSUNGUÊ|     LN404|  0002970828|07/10/15 21:27:45|\n",
      "|     629|  ALTO BOQUEIRÃO|     KA603|  0003528264|07/10/15 19:25:55|\n",
      "|     629|  ALTO BOQUEIRÃO|     KA603|  0003528264|07/10/15 19:25:58|\n",
      "|     653|          SABARÁ|     HA293|  0003410298|07/10/15 16:15:46|\n",
      "|     653|          SABARÁ|     HA293|  0002471107|07/10/15 18:44:03|\n",
      "+--------+----------------+----------+------------+-----------------+\n",
      "only showing top 20 rows\n",
      "\n"
     ]
    }
   ],
   "source": [
    "# Register the DataFrame as a global temporary view\n",
    "df.createGlobalTempView(\"people\")\n",
    "\n",
    "# Global temporary view is tied to a system preserved database `global_temp`\n",
    "spark.sql(\"SELECT * FROM global_temp.people\").show()"
   ]
  },
  {
   "cell_type": "code",
   "execution_count": 17,
   "metadata": {},
   "outputs": [
    {
     "name": "stdout",
     "output_type": "stream",
     "text": [
      "+--------+----------------+----------+------------+-----------------+\n",
      "|CODLINHA|       NOMELINHA|CODVEICULO|NUMEROCARTAO|   DATAUTILIZACAO|\n",
      "+--------+----------------+----------+------------+-----------------+\n",
      "|     280|N. SRA.DE NAZARÉ|     BC911|  0001430250|07/10/15 07:37:02|\n",
      "|     280|N. SRA.DE NAZARÉ|     BC911|  0002470195|07/10/15 07:51:25|\n",
      "|     280|N. SRA.DE NAZARÉ|     BC911|  0003234514|07/10/15 18:49:49|\n",
      "|     280|N. SRA.DE NAZARÉ|     BC911|  0003234514|07/10/15 18:49:51|\n",
      "|     000|    OPER S/LINHA|     08047|  0000771305|07/10/15 16:47:16|\n",
      "|     000|    OPER S/LINHA|     08047|  0000856665|07/10/15 16:50:18|\n",
      "|     629|  ALTO BOQUEIRÃO|     KA603|  0002115218|07/10/15 13:18:26|\n",
      "|     629|  ALTO BOQUEIRÃO|     KA603|  0002178679|07/10/15 14:18:59|\n",
      "|     629|  ALTO BOQUEIRÃO|     KA603|  0000849493|07/10/15 14:40:56|\n",
      "|     629|  ALTO BOQUEIRÃO|     KA603|  0000849493|07/10/15 14:41:05|\n",
      "|     629|  ALTO BOQUEIRÃO|     KA603|  0002202962|07/10/15 16:48:12|\n",
      "|     629|  ALTO BOQUEIRÃO|     KA603|  0001839942|07/10/15 18:13:05|\n",
      "|     814|       MOSSUNGUÊ|     LN404|  0003527951|07/10/15 17:07:31|\n",
      "|     814|       MOSSUNGUÊ|     LN404|  0001188263|07/10/15 17:46:36|\n",
      "|     814|       MOSSUNGUÊ|     LN404|  0003260485|07/10/15 17:53:46|\n",
      "|     814|       MOSSUNGUÊ|     LN404|  0002970828|07/10/15 21:27:45|\n",
      "|     629|  ALTO BOQUEIRÃO|     KA603|  0003528264|07/10/15 19:25:55|\n",
      "|     629|  ALTO BOQUEIRÃO|     KA603|  0003528264|07/10/15 19:25:58|\n",
      "|     653|          SABARÁ|     HA293|  0003410298|07/10/15 16:15:46|\n",
      "|     653|          SABARÁ|     HA293|  0002471107|07/10/15 18:44:03|\n",
      "+--------+----------------+----------+------------+-----------------+\n",
      "only showing top 20 rows\n",
      "\n"
     ]
    }
   ],
   "source": [
    "# Global temporary view is cross-session\n",
    "spark.newSession().sql(\"SELECT * FROM global_temp.people\").show()"
   ]
  },
  {
   "cell_type": "markdown",
   "metadata": {},
   "source": [
    "## Interoperating with RDDs\n",
    "Spark SQL supports two different methods for converting existing RDDs into Datasets. The first method uses reflection to infer the schema of an RDD that contains specific types of objects. This reflection based approach leads to more concise code and works well when you already know the schema while writing your Spark application.\n",
    "\n",
    "The second method for creating Datasets is through a programmatic interface that allows you to construct a schema and then apply it to an existing RDD. While this method is more verbose, it allows you to construct Datasets when the columns and their types are not known until runtime.\n",
    "\n",
    "### Inferring the Schema Using Reflection (DOESN'T WORK AND I DON'T KNOW WHY, BUT THIS IS NOT IMPORTANT)"
   ]
  },
  {
   "cell_type": "raw",
   "metadata": {},
   "source": [
    "from pyspark.sql import Row\n",
    "\n",
    "sc = spark.sparkContext\n",
    "\n",
    "# Load a text file and convert each line to a Row.\n",
    "lines = sc.textFile(\"Dati/ciao.txt\")\n",
    "parts = lines.map(lambda l: l.split(\",\"))\n",
    "people2 = parts.map(lambda p: Row(codlinha=p[0], nomelinha=p[1], codveiculo=p[2], numerocartao=int(p[3]), datautilizacao=p[4], orautilizacao=p[5]))\n",
    "\n",
    "# Infer the schema, and register the DataFrame as a table.\n",
    "schemaPeople = spark.createDataFrame(people2)\n",
    "schemaPeople.createOrReplaceTempView(\"people2\")\n",
    "\n",
    "# SQL can be run over DataFrames that have been registered as a table.\n",
    "person = spark.sql(\"SELECT codlinha FROM people2 WHERE numerocartao == 0001430250\")\n",
    "\n",
    "person.show()\n",
    "\n",
    "# The results of SQL queries are Dataframe objects.\n",
    "# rdd returns the content as an :class:`pyspark.RDD` of :class:`Row`.\n",
    "#codice = person.rdd.map(lambda p: \"Name: \" + p.codlinha).collect()\n",
    "#for codlinha in codice:\n",
    "#    print(codlinha)"
   ]
  },
  {
   "cell_type": "markdown",
   "metadata": {},
   "source": [
    "## TEST WITH THE LAST DATETIME COLUMN DIVIDED\n",
    "\n",
    "I divided the last column in two (one for date and other for time)"
   ]
  },
  {
   "cell_type": "code",
   "execution_count": 18,
   "metadata": {},
   "outputs": [
    {
     "name": "stdout",
     "output_type": "stream",
     "text": [
      "+--------+----------------+----------+------------+--------------+-------------+\n",
      "|CODLINHA|       NOMELINHA|CODVEICULO|NUMEROCARTAO|DATAUTILIZACAO|ORAUTILIZACAO|\n",
      "+--------+----------------+----------+------------+--------------+-------------+\n",
      "|     280|N. SRA.DE NAZARÉ|     BC911|  0001430250|      07/10/15|     07:37:02|\n",
      "|     280|N. SRA.DE NAZARÉ|     BC911|  0002470195|      07/10/15|     07:51:25|\n",
      "|     280|N. SRA.DE NAZARÉ|     BC911|  0003234514|      07/10/15|     18:49:49|\n",
      "|     280|N. SRA.DE NAZARÉ|     BC911|  0003234514|      07/10/15|     18:49:51|\n",
      "|     000|    OPER S/LINHA|     08047|  0000771305|      07/10/15|     16:47:16|\n",
      "|     000|    OPER S/LINHA|     08047|  0000856665|      07/10/15|     16:50:18|\n",
      "|     629|  ALTO BOQUEIRÃO|     KA603|  0002115218|      07/10/15|     13:18:26|\n",
      "|     629|  ALTO BOQUEIRÃO|     KA603|  0002178679|      07/10/15|     14:18:59|\n",
      "|     629|  ALTO BOQUEIRÃO|     KA603|  0000849493|      07/10/15|     14:40:56|\n",
      "|     629|  ALTO BOQUEIRÃO|     KA603|  0000849493|      07/10/15|     14:41:05|\n",
      "|     629|  ALTO BOQUEIRÃO|     KA603|  0002202962|      07/10/15|     16:48:12|\n",
      "|     629|  ALTO BOQUEIRÃO|     KA603|  0001839942|      07/10/15|     18:13:05|\n",
      "|     814|       MOSSUNGUÊ|     LN404|  0003527951|      07/10/15|     17:07:31|\n",
      "|     814|       MOSSUNGUÊ|     LN404|  0001188263|      07/10/15|     17:46:36|\n",
      "|     814|       MOSSUNGUÊ|     LN404|  0003260485|      07/10/15|     17:53:46|\n",
      "|     814|       MOSSUNGUÊ|     LN404|  0002970828|      07/10/15|     21:27:45|\n",
      "|     629|  ALTO BOQUEIRÃO|     KA603|  0003528264|      07/10/15|     19:25:55|\n",
      "|     629|  ALTO BOQUEIRÃO|     KA603|  0003528264|      07/10/15|     19:25:58|\n",
      "|     653|          SABARÁ|     HA293|  0003410298|      07/10/15|     16:15:46|\n",
      "|     653|          SABARÁ|     HA293|  0002471107|      07/10/15|     18:44:03|\n",
      "+--------+----------------+----------+------------+--------------+-------------+\n",
      "only showing top 20 rows\n",
      "\n",
      "root\n",
      " |-- CODLINHA: string (nullable = true)\n",
      " |-- NOMELINHA: string (nullable = true)\n",
      " |-- CODVEICULO: string (nullable = true)\n",
      " |-- NUMEROCARTAO: string (nullable = true)\n",
      " |-- DATAUTILIZACAO: string (nullable = true)\n",
      " |-- ORAUTILIZACAO: string (nullable = true)\n",
      "\n"
     ]
    }
   ],
   "source": [
    "df_test = spark.read.csv(\"Dati/test.csv\", header = True)\n",
    "df_test.show()\n",
    "df_test.printSchema()"
   ]
  },
  {
   "cell_type": "markdown",
   "metadata": {},
   "source": [
    "## Convert column String to Datetime into the Dataframe"
   ]
  },
  {
   "cell_type": "code",
   "execution_count": 19,
   "metadata": {},
   "outputs": [
    {
     "name": "stdout",
     "output_type": "stream",
     "text": [
      "+--------+----------------+----------+------------+--------------+-------------+\n",
      "|CODLINHA|       NOMELINHA|CODVEICULO|NUMEROCARTAO|datautilizacao|ORAUTILIZACAO|\n",
      "+--------+----------------+----------+------------+--------------+-------------+\n",
      "|     280|N. SRA.DE NAZARÉ|     BC911|  0001430250|    2015-10-07|     07:37:02|\n",
      "|     280|N. SRA.DE NAZARÉ|     BC911|  0002470195|    2015-10-07|     07:51:25|\n",
      "|     280|N. SRA.DE NAZARÉ|     BC911|  0003234514|    2015-10-07|     18:49:49|\n",
      "|     280|N. SRA.DE NAZARÉ|     BC911|  0003234514|    2015-10-07|     18:49:51|\n",
      "|     000|    OPER S/LINHA|     08047|  0000771305|    2015-10-07|     16:47:16|\n",
      "|     000|    OPER S/LINHA|     08047|  0000856665|    2015-10-07|     16:50:18|\n",
      "|     629|  ALTO BOQUEIRÃO|     KA603|  0002115218|    2015-10-07|     13:18:26|\n",
      "|     629|  ALTO BOQUEIRÃO|     KA603|  0002178679|    2015-10-07|     14:18:59|\n",
      "|     629|  ALTO BOQUEIRÃO|     KA603|  0000849493|    2015-10-07|     14:40:56|\n",
      "|     629|  ALTO BOQUEIRÃO|     KA603|  0000849493|    2015-10-07|     14:41:05|\n",
      "|     629|  ALTO BOQUEIRÃO|     KA603|  0002202962|    2015-10-07|     16:48:12|\n",
      "|     629|  ALTO BOQUEIRÃO|     KA603|  0001839942|    2015-10-07|     18:13:05|\n",
      "|     814|       MOSSUNGUÊ|     LN404|  0003527951|    2015-10-07|     17:07:31|\n",
      "|     814|       MOSSUNGUÊ|     LN404|  0001188263|    2015-10-07|     17:46:36|\n",
      "|     814|       MOSSUNGUÊ|     LN404|  0003260485|    2015-10-07|     17:53:46|\n",
      "|     814|       MOSSUNGUÊ|     LN404|  0002970828|    2015-10-07|     21:27:45|\n",
      "|     629|  ALTO BOQUEIRÃO|     KA603|  0003528264|    2015-10-07|     19:25:55|\n",
      "|     629|  ALTO BOQUEIRÃO|     KA603|  0003528264|    2015-10-07|     19:25:58|\n",
      "|     653|          SABARÁ|     HA293|  0003410298|    2015-10-07|     16:15:46|\n",
      "|     653|          SABARÁ|     HA293|  0002471107|    2015-10-07|     18:44:03|\n",
      "+--------+----------------+----------+------------+--------------+-------------+\n",
      "only showing top 20 rows\n",
      "\n",
      "root\n",
      " |-- CODLINHA: string (nullable = true)\n",
      " |-- NOMELINHA: string (nullable = true)\n",
      " |-- CODVEICULO: string (nullable = true)\n",
      " |-- NUMEROCARTAO: string (nullable = true)\n",
      " |-- datautilizacao: date (nullable = true)\n",
      " |-- ORAUTILIZACAO: string (nullable = true)\n",
      "\n"
     ]
    }
   ],
   "source": [
    "\n",
    "\n",
    "df_datetime = df_test.withColumn('datautilizacao', to_date(unix_timestamp(col('datautilizacao'), 'dd/MM/yy').cast(\"timestamp\")))\n",
    "\n",
    "df_datetime.show()\n",
    "df_datetime.printSchema()"
   ]
  },
  {
   "cell_type": "markdown",
   "metadata": {},
   "source": [
    "## Convert String to Datetime (but the result is another column)"
   ]
  },
  {
   "cell_type": "code",
   "execution_count": 20,
   "metadata": {},
   "outputs": [
    {
     "name": "stdout",
     "output_type": "stream",
     "text": [
      "+--------------+\n",
      "|datautilizacao|\n",
      "+--------------+\n",
      "|    2015-10-07|\n",
      "|    2015-10-07|\n",
      "|    2015-10-07|\n",
      "|    2015-10-07|\n",
      "|    2015-10-07|\n",
      "|    2015-10-07|\n",
      "|    2015-10-07|\n",
      "|    2015-10-07|\n",
      "|    2015-10-07|\n",
      "|    2015-10-07|\n",
      "|    2015-10-07|\n",
      "|    2015-10-07|\n",
      "|    2015-10-07|\n",
      "|    2015-10-07|\n",
      "|    2015-10-07|\n",
      "|    2015-10-07|\n",
      "|    2015-10-07|\n",
      "|    2015-10-07|\n",
      "|    2015-10-07|\n",
      "|    2015-10-07|\n",
      "+--------------+\n",
      "only showing top 20 rows\n",
      "\n",
      "root\n",
      " |-- datautilizacao: date (nullable = true)\n",
      "\n"
     ]
    }
   ],
   "source": [
    "from pyspark.sql.types import *\n",
    "\n",
    "#df_test = df_test.withColumn(\"datautilizacao\", df_test[\"datautilizacao\"].cast(StringType()))\n",
    "\n",
    "from pyspark.sql.functions import to_date\n",
    "\n",
    "df_test3 = df_test.select(to_date('datautilizacao', 'dd/MM/yy').alias('datautilizacao'))\n",
    "#df_test.select(to_date(df_test.datautilizacao, 'dd/MM/yy').alias('datautilizacao'))\n",
    "\n",
    "df_test3.show()\n",
    "df_test3.printSchema()"
   ]
  },
  {
   "cell_type": "markdown",
   "metadata": {},
   "source": [
    "## SQL with Datatime"
   ]
  },
  {
   "cell_type": "code",
   "execution_count": 21,
   "metadata": {},
   "outputs": [
    {
     "name": "stdout",
     "output_type": "stream",
     "text": [
      "+--------+\n",
      "|codlinha|\n",
      "+--------+\n",
      "|     280|\n",
      "|     280|\n",
      "|     280|\n",
      "|     280|\n",
      "|     000|\n",
      "|     000|\n",
      "|     629|\n",
      "|     629|\n",
      "|     629|\n",
      "|     629|\n",
      "|     629|\n",
      "|     629|\n",
      "|     814|\n",
      "|     814|\n",
      "|     814|\n",
      "|     814|\n",
      "|     629|\n",
      "|     629|\n",
      "|     653|\n",
      "|     653|\n",
      "+--------+\n",
      "only showing top 20 rows\n",
      "\n",
      "+--------+----------------+----------+------------+--------------+-------------+\n",
      "|CODLINHA|       NOMELINHA|CODVEICULO|NUMEROCARTAO|datautilizacao|ORAUTILIZACAO|\n",
      "+--------+----------------+----------+------------+--------------+-------------+\n",
      "|     280|N. SRA.DE NAZARÉ|     BC911|  0001430250|    2015-10-07|     07:37:02|\n",
      "|     280|N. SRA.DE NAZARÉ|     BC911|  0002470195|    2015-10-07|     07:51:25|\n",
      "|     280|N. SRA.DE NAZARÉ|     BC911|  0003234514|    2015-10-07|     18:49:49|\n",
      "|     280|N. SRA.DE NAZARÉ|     BC911|  0003234514|    2015-10-07|     18:49:51|\n",
      "|     000|    OPER S/LINHA|     08047|  0000771305|    2015-10-07|     16:47:16|\n",
      "|     000|    OPER S/LINHA|     08047|  0000856665|    2015-10-07|     16:50:18|\n",
      "|     629|  ALTO BOQUEIRÃO|     KA603|  0002115218|    2015-10-07|     13:18:26|\n",
      "|     629|  ALTO BOQUEIRÃO|     KA603|  0002178679|    2015-10-07|     14:18:59|\n",
      "|     629|  ALTO BOQUEIRÃO|     KA603|  0000849493|    2015-10-07|     14:40:56|\n",
      "|     629|  ALTO BOQUEIRÃO|     KA603|  0000849493|    2015-10-07|     14:41:05|\n",
      "|     629|  ALTO BOQUEIRÃO|     KA603|  0002202962|    2015-10-07|     16:48:12|\n",
      "|     629|  ALTO BOQUEIRÃO|     KA603|  0001839942|    2015-10-07|     18:13:05|\n",
      "|     814|       MOSSUNGUÊ|     LN404|  0003527951|    2015-10-07|     17:07:31|\n",
      "|     814|       MOSSUNGUÊ|     LN404|  0001188263|    2015-10-07|     17:46:36|\n",
      "|     814|       MOSSUNGUÊ|     LN404|  0003260485|    2015-10-07|     17:53:46|\n",
      "|     814|       MOSSUNGUÊ|     LN404|  0002970828|    2015-10-07|     21:27:45|\n",
      "|     629|  ALTO BOQUEIRÃO|     KA603|  0003528264|    2015-10-07|     19:25:55|\n",
      "|     629|  ALTO BOQUEIRÃO|     KA603|  0003528264|    2015-10-07|     19:25:58|\n",
      "|     653|          SABARÁ|     HA293|  0003410298|    2015-10-07|     16:15:46|\n",
      "|     653|          SABARÁ|     HA293|  0002471107|    2015-10-07|     18:44:03|\n",
      "+--------+----------------+----------+------------+--------------+-------------+\n",
      "only showing top 20 rows\n",
      "\n"
     ]
    }
   ],
   "source": [
    "df_datetime.createOrReplaceTempView(\"people_test\")\n",
    "\n",
    "sqlDF = spark.sql(\"SELECT codlinha FROM people_test WHERE datautilizacao == '2015-10-07'\")\n",
    "sqlDF.show()\n",
    "\n",
    "df_datetime.show()"
   ]
  },
  {
   "cell_type": "markdown",
   "metadata": {},
   "source": [
    "## Distinct values multi-column"
   ]
  },
  {
   "cell_type": "code",
   "execution_count": 22,
   "metadata": {},
   "outputs": [
    {
     "name": "stdout",
     "output_type": "stream",
     "text": [
      "+--------+----------------+----------+------------+-----------------+\n",
      "|CODLINHA|       NOMELINHA|CODVEICULO|NUMEROCARTAO|   DATAUTILIZACAO|\n",
      "+--------+----------------+----------+------------+-----------------+\n",
      "|     280|N. SRA.DE NAZARÉ|     BC911|  0001430250|07/10/15 07:37:02|\n",
      "|     280|N. SRA.DE NAZARÉ|     BC911|  0002470195|07/10/15 07:51:25|\n",
      "|     280|N. SRA.DE NAZARÉ|     BC911|  0003234514|07/10/15 18:49:49|\n",
      "|     280|N. SRA.DE NAZARÉ|     BC911|  0003234514|07/10/15 18:49:51|\n",
      "|     000|    OPER S/LINHA|     08047|  0000771305|07/10/15 16:47:16|\n",
      "|     000|    OPER S/LINHA|     08047|  0000856665|07/10/15 16:50:18|\n",
      "|     629|  ALTO BOQUEIRÃO|     KA603|  0002115218|07/10/15 13:18:26|\n",
      "|     629|  ALTO BOQUEIRÃO|     KA603|  0002178679|07/10/15 14:18:59|\n",
      "|     629|  ALTO BOQUEIRÃO|     KA603|  0000849493|07/10/15 14:40:56|\n",
      "|     629|  ALTO BOQUEIRÃO|     KA603|  0000849493|07/10/15 14:41:05|\n",
      "|     629|  ALTO BOQUEIRÃO|     KA603|  0002202962|07/10/15 16:48:12|\n",
      "|     629|  ALTO BOQUEIRÃO|     KA603|  0001839942|07/10/15 18:13:05|\n",
      "|     814|       MOSSUNGUÊ|     LN404|  0003527951|07/10/15 17:07:31|\n",
      "|     814|       MOSSUNGUÊ|     LN404|  0001188263|07/10/15 17:46:36|\n",
      "|     814|       MOSSUNGUÊ|     LN404|  0003260485|07/10/15 17:53:46|\n",
      "|     814|       MOSSUNGUÊ|     LN404|  0002970828|07/10/15 21:27:45|\n",
      "|     629|  ALTO BOQUEIRÃO|     KA603|  0003528264|07/10/15 19:25:55|\n",
      "|     629|  ALTO BOQUEIRÃO|     KA603|  0003528264|07/10/15 19:25:58|\n",
      "|     653|          SABARÁ|     HA293|  0003410298|07/10/15 16:15:46|\n",
      "|     653|          SABARÁ|     HA293|  0002471107|07/10/15 18:44:03|\n",
      "+--------+----------------+----------+------------+-----------------+\n",
      "only showing top 20 rows\n",
      "\n"
     ]
    }
   ],
   "source": [
    "df.show()"
   ]
  },
  {
   "cell_type": "code",
   "execution_count": 23,
   "metadata": {
    "scrolled": true
   },
   "outputs": [
    {
     "name": "stdout",
     "output_type": "stream",
     "text": [
      "+--------+----------------+----------+------------+-----------------+\n",
      "|CODLINHA|       NOMELINHA|CODVEICULO|NUMEROCARTAO|   DATAUTILIZACAO|\n",
      "+--------+----------------+----------+------------+-----------------+\n",
      "|     180|AVERDE/ABRANCHES|     HC302|  0010064208|07/10/15 08:07:59|\n",
      "|     271|     LARANJEIRAS|     BC944|  0002801400|07/10/15 05:58:41|\n",
      "|     331|        MERCÚRIO|     DA850|  0003471943|07/10/15 06:47:17|\n",
      "|     673|         FORMOSA|     HN610|  0000378712|07/10/15 07:31:49|\n",
      "|     184|        V. SUIÇA|     BN621|  0003154177|07/10/15 06:40:48|\n",
      "|     212|           SOLAR|     BN406|  0002208699|07/10/15 06:22:11|\n",
      "|     650|S.RITA/PINHEIRIN|     HA287|  0002345121|07/10/15 14:53:32|\n",
      "|     674|  N. SRA. DA LUZ|     LC022|  0002288037|07/10/15 06:58:16|\n",
      "|     680|         RURBANA|     HA299|  0003559777|07/10/15 13:30:54|\n",
      "|     789|      MAD. CAIUÁ|     JC001|  0002297351|07/10/15 06:41:14|\n",
      "|     913|    BUTIATUVINHA|     MN401|  0003204194|07/10/15 06:43:53|\n",
      "|     182|       ABRANCHES|     BC311|  0003049980|07/10/15 09:11:16|\n",
      "|     464|A.MUN/J.BOTÂNICO|     MN609|  0003251823|07/10/15 10:25:51|\n",
      "|     614|  FAZENDINHA/PUC|     HA616|  0002302949|07/10/15 05:01:26|\n",
      "|     X24|REFORÇO SAMBAQUI|     EA203|  0002268018|07/10/15 06:29:28|\n",
      "|     720|FAZEN/C.COMPRIDO|     JA019|  0002730640|07/10/15 07:07:46|\n",
      "|     260|M.HERMES/STA.EFI|     BC949|  0003211057|07/10/15 17:16:06|\n",
      "|     060| INTERBAIRROS VI|     HB602|  0003165057|07/10/15 06:16:39|\n",
      "|     393|C.IMB./P.BARIGUI|     DN602|  0003345061|07/10/15 06:30:51|\n",
      "|     541|   BAIRRO NOVO A|     GA179|  0002672672|07/10/15 05:37:50|\n",
      "+--------+----------------+----------+------------+-----------------+\n",
      "only showing top 20 rows\n",
      "\n"
     ]
    }
   ],
   "source": [
    "df_distinct = df.dropDuplicates(['CODLINHA', 'NOMELINHA'])\n",
    "df_distinct.show()"
   ]
  },
  {
   "cell_type": "code",
   "execution_count": 24,
   "metadata": {
    "scrolled": true
   },
   "outputs": [
    {
     "name": "stdout",
     "output_type": "stream",
     "text": [
      "+--------+-----+\n",
      "|codlinha|count|\n",
      "+--------+-----+\n",
      "|     829|    1|\n",
      "|     467|    1|\n",
      "|     TXA|    1|\n",
      "|     870|    1|\n",
      "|     666|    1|\n",
      "|     232|    1|\n",
      "|     635|    1|\n",
      "|     714|    1|\n",
      "|     475|    1|\n",
      "|     718|    1|\n",
      "|     462|    1|\n",
      "|     470|    1|\n",
      "|     272|    1|\n",
      "|     711|    1|\n",
      "|     ARA|    1|\n",
      "|     521|    1|\n",
      "|     625|    1|\n",
      "|     169|    1|\n",
      "|     030|    1|\n",
      "|     TSP|    1|\n",
      "+--------+-----+\n",
      "only showing top 20 rows\n",
      "\n"
     ]
    }
   ],
   "source": [
    "df_distinct.groupBy(\"codlinha\").count().orderBy('count', ascending=False).show()"
   ]
  },
  {
   "cell_type": "code",
   "execution_count": 25,
   "metadata": {},
   "outputs": [
    {
     "data": {
      "text/plain": [
       "512013"
      ]
     },
     "execution_count": 25,
     "metadata": {},
     "output_type": "execute_result"
    }
   ],
   "source": [
    "df.count()"
   ]
  },
  {
   "cell_type": "code",
   "execution_count": 26,
   "metadata": {},
   "outputs": [
    {
     "data": {
      "text/plain": [
       "257"
      ]
     },
     "execution_count": 26,
     "metadata": {},
     "output_type": "execute_result"
    }
   ],
   "source": [
    "df_distinct.count()"
   ]
  },
  {
   "cell_type": "code",
   "execution_count": 27,
   "metadata": {},
   "outputs": [
    {
     "name": "stdout",
     "output_type": "stream",
     "text": [
      "+--------+----------------+\n",
      "|codlinha|       nomelinha|\n",
      "+--------+----------------+\n",
      "|     180|AVERDE/ABRANCHES|\n",
      "|     271|     LARANJEIRAS|\n",
      "|     673|         FORMOSA|\n",
      "|     331|        MERCÚRIO|\n",
      "|     650|S.RITA/PINHEIRIN|\n",
      "|     674|  N. SRA. DA LUZ|\n",
      "|     680|         RURBANA|\n",
      "|     184|        V. SUIÇA|\n",
      "|     212|           SOLAR|\n",
      "|     789|      MAD. CAIUÁ|\n",
      "|     913|    BUTIATUVINHA|\n",
      "|     182|       ABRANCHES|\n",
      "|     X24|REFORÇO SAMBAQUI|\n",
      "|     614|  FAZENDINHA/PUC|\n",
      "|     464|A.MUN/J.BOTÂNICO|\n",
      "|     720|FAZEN/C.COMPRIDO|\n",
      "|     260|M.HERMES/STA.EFI|\n",
      "|     060| INTERBAIRROS VI|\n",
      "|     393|C.IMB./P.BARIGUI|\n",
      "|     541|   BAIRRO NOVO A|\n",
      "+--------+----------------+\n",
      "only showing top 20 rows\n",
      "\n"
     ]
    }
   ],
   "source": [
    "df_distinct.select(df_distinct[\"codlinha\"], df_distinct[\"nomelinha\"]).show()"
   ]
  },
  {
   "cell_type": "code",
   "execution_count": 28,
   "metadata": {},
   "outputs": [
    {
     "data": {
      "text/plain": [
       "257"
      ]
     },
     "execution_count": 28,
     "metadata": {},
     "output_type": "execute_result"
    }
   ],
   "source": [
    "df_distinct.select(df_distinct[\"codlinha\"], df_distinct[\"nomelinha\"]).count()"
   ]
  },
  {
   "cell_type": "markdown",
   "metadata": {},
   "source": [
    "## Write CSV with dictionary of codlinha-nomelinha"
   ]
  },
  {
   "cell_type": "code",
   "execution_count": 29,
   "metadata": {},
   "outputs": [],
   "source": [
    "dictionary = df_distinct.select(df_distinct[\"codlinha\"], df_distinct[\"nomelinha\"])\n",
    "###dictionary.write.csv('dictionary.csv')  NON USARE\n",
    "#dictionary.toPandas().to_csv('dictionary.csv', index=False)"
   ]
  },
  {
   "cell_type": "markdown",
   "metadata": {},
   "source": [
    "## Pyspark Profiling"
   ]
  },
  {
   "cell_type": "code",
   "execution_count": 30,
   "metadata": {},
   "outputs": [],
   "source": [
    "import spark_df_profiling\n",
    "\n",
    "#report = spark_df_profiling.ProfileReport(df)\n"
   ]
  },
  {
   "cell_type": "code",
   "execution_count": 31,
   "metadata": {},
   "outputs": [],
   "source": [
    "#report.to_file(\"testing.html\")"
   ]
  },
  {
   "cell_type": "markdown",
   "metadata": {},
   "source": [
    "## Diagnosis Dataframe"
   ]
  },
  {
   "cell_type": "code",
   "execution_count": 32,
   "metadata": {},
   "outputs": [
    {
     "name": "stdout",
     "output_type": "stream",
     "text": [
      "+-------+-----------------+----------------+-----------------+------------------+-----------------+\n",
      "|summary|         CODLINHA|       NOMELINHA|       CODVEICULO|      NUMEROCARTAO|   DATAUTILIZACAO|\n",
      "+-------+-----------------+----------------+-----------------+------------------+-----------------+\n",
      "|  count|           512013|          512013|           512013|            512013|           512013|\n",
      "|   mean|235.2516363444996|            null|4333.230022916709|2776320.8005109243|             null|\n",
      "| stddev|304.6590005314995|            null| 3040.95734919013|1164166.3394630125|             null|\n",
      "|    min|              000|A.MUN/J.BOTÂNICO|            00001|        0000116745|07/10/15 00:01:24|\n",
      "|    max|              Z03|       ZOOLÓGICO|            MR106|        0010066452|08/10/15 00:58:34|\n",
      "+-------+-----------------+----------------+-----------------+------------------+-----------------+\n",
      "\n"
     ]
    }
   ],
   "source": [
    "summary_df = df.describe('CODLINHA','NOMELINHA','CODVEICULO','NUMEROCARTAO','DATAUTILIZACAO')\n",
    "summary_df.show()"
   ]
  },
  {
   "cell_type": "code",
   "execution_count": 33,
   "metadata": {},
   "outputs": [
    {
     "name": "stdout",
     "output_type": "stream",
     "text": [
      "+-------+-----------------+----------------+-----------------+------------------+-----------------+\n",
      "|summary|         CODLINHA|       NOMELINHA|       CODVEICULO|      NUMEROCARTAO|   DATAUTILIZACAO|\n",
      "+-------+-----------------+----------------+-----------------+------------------+-----------------+\n",
      "|  count|           512013|          512013|           512013|            512013|           512013|\n",
      "|   mean|235.2516363444996|            null|4333.230022916709|2776320.8005109243|             null|\n",
      "| stddev|304.6590005314995|            null| 3040.95734919013|1164166.3394630125|             null|\n",
      "|    min|              000|A.MUN/J.BOTÂNICO|            00001|        0000116745|07/10/15 00:01:24|\n",
      "|    25%|              0.0|            null|           2083.0|         2237296.0|             null|\n",
      "|    50%|              0.0|            null|           3068.0|         2868707.0|             null|\n",
      "|    75%|            532.0|            null|           7020.0|         3353338.0|             null|\n",
      "|    max|              Z03|       ZOOLÓGICO|            MR106|        0010066452|08/10/15 00:58:34|\n",
      "+-------+-----------------+----------------+-----------------+------------------+-----------------+\n",
      "\n"
     ]
    }
   ],
   "source": [
    "summary_df = df.summary()\n",
    "summary_df.show()"
   ]
  },
  {
   "cell_type": "code",
   "execution_count": 34,
   "metadata": {},
   "outputs": [
    {
     "data": {
      "text/plain": [
       "512013"
      ]
     },
     "execution_count": 34,
     "metadata": {},
     "output_type": "execute_result"
    }
   ],
   "source": [
    "df.dropna().count()\n",
    "#se uguale a 512013 allora non ci sono missing values"
   ]
  },
  {
   "cell_type": "code",
   "execution_count": 35,
   "metadata": {},
   "outputs": [
    {
     "name": "stdout",
     "output_type": "stream",
     "text": [
      "+--------+-------------+\n",
      "|codlinha|max(codlinha)|\n",
      "+--------+-------------+\n",
      "|     467|          467|\n",
      "|     829|          829|\n",
      "|     666|          666|\n",
      "|     870|          870|\n",
      "|     TXA|          TXA|\n",
      "+--------+-------------+\n",
      "only showing top 5 rows\n",
      "\n"
     ]
    }
   ],
   "source": [
    "df.groupby('codlinha').agg({'codlinha': 'max'}).show(5)\n",
    "#al posto di 'max' ci può andare un espressione come 'avg', 'min' o anche altre, ma non ne trovo altre"
   ]
  },
  {
   "cell_type": "markdown",
   "metadata": {},
   "source": [
    "## Adding a new column"
   ]
  },
  {
   "cell_type": "code",
   "execution_count": 36,
   "metadata": {},
   "outputs": [
    {
     "name": "stdout",
     "output_type": "stream",
     "text": [
      "+--------+------------+\n",
      "|codlinha|Purchase_new|\n",
      "+--------+------------+\n",
      "|     280|         280|\n",
      "|     280|         280|\n",
      "|     280|         280|\n",
      "|     280|         280|\n",
      "|     000|         000|\n",
      "+--------+------------+\n",
      "only showing top 5 rows\n",
      "\n"
     ]
    }
   ],
   "source": [
    "df.withColumn('Purchase_new', col('codlinha')).select('codlinha','Purchase_new').show(5)"
   ]
  },
  {
   "cell_type": "code",
   "execution_count": 37,
   "metadata": {
    "scrolled": false
   },
   "outputs": [
    {
     "name": "stdout",
     "output_type": "stream",
     "text": [
      "+--------+----------------+----------+------------+-----------------+------------+\n",
      "|CODLINHA|       NOMELINHA|CODVEICULO|NUMEROCARTAO|   DATAUTILIZACAO|Purchase_new|\n",
      "+--------+----------------+----------+------------+-----------------+------------+\n",
      "|     280|N. SRA.DE NAZARÉ|     BC911|  0001430250|07/10/15 07:37:02|         280|\n",
      "|     280|N. SRA.DE NAZARÉ|     BC911|  0002470195|07/10/15 07:51:25|         280|\n",
      "|     280|N. SRA.DE NAZARÉ|     BC911|  0003234514|07/10/15 18:49:49|         280|\n",
      "|     280|N. SRA.DE NAZARÉ|     BC911|  0003234514|07/10/15 18:49:51|         280|\n",
      "|     000|    OPER S/LINHA|     08047|  0000771305|07/10/15 16:47:16|         000|\n",
      "+--------+----------------+----------+------------+-----------------+------------+\n",
      "only showing top 5 rows\n",
      "\n"
     ]
    }
   ],
   "source": [
    "df_new_column=df.withColumn('Purchase_new', col('codlinha'))\n",
    "df_new_column.show(5)"
   ]
  },
  {
   "cell_type": "markdown",
   "metadata": {},
   "source": [
    "## Non-null values for row (Better with pandas)"
   ]
  },
  {
   "cell_type": "code",
   "execution_count": 38,
   "metadata": {},
   "outputs": [],
   "source": [
    "#Pandas\n",
    "#df_pandas.apply(lambda x: x.count(), axis=1)\n",
    "#RITORNA IL NUMERO DI VALORI NON NULLI DI OGNI RIGA"
   ]
  },
  {
   "cell_type": "code",
   "execution_count": 39,
   "metadata": {},
   "outputs": [],
   "source": [
    "#%timeit df_pandas.apply(lambda x: x.count(), axis=1)\n",
    "#RISULTATO:14.4 s ± 286 ms per loop (mean ± std. dev. of 7 runs, 1 loop each)"
   ]
  },
  {
   "cell_type": "code",
   "execution_count": 40,
   "metadata": {},
   "outputs": [
    {
     "data": {
      "text/plain": [
       "0         0\n",
       "1         0\n",
       "2         0\n",
       "3         0\n",
       "4         0\n",
       "5         0\n",
       "6         0\n",
       "7         0\n",
       "8         0\n",
       "9         0\n",
       "10        0\n",
       "11        0\n",
       "12        0\n",
       "13        0\n",
       "14        0\n",
       "15        0\n",
       "16        0\n",
       "17        0\n",
       "18        0\n",
       "19        0\n",
       "20        0\n",
       "21        0\n",
       "22        0\n",
       "23        0\n",
       "24        0\n",
       "25        0\n",
       "26        0\n",
       "27        0\n",
       "28        0\n",
       "29        0\n",
       "         ..\n",
       "511983    0\n",
       "511984    0\n",
       "511985    0\n",
       "511986    0\n",
       "511987    0\n",
       "511988    0\n",
       "511989    0\n",
       "511990    0\n",
       "511991    0\n",
       "511992    0\n",
       "511993    0\n",
       "511994    0\n",
       "511995    0\n",
       "511996    0\n",
       "511997    0\n",
       "511998    0\n",
       "511999    0\n",
       "512000    0\n",
       "512001    0\n",
       "512002    0\n",
       "512003    0\n",
       "512004    0\n",
       "512005    0\n",
       "512006    0\n",
       "512007    0\n",
       "512008    0\n",
       "512009    0\n",
       "512010    0\n",
       "512011    0\n",
       "512012    0\n",
       "Length: 512013, dtype: int64"
      ]
     },
     "execution_count": 40,
     "metadata": {},
     "output_type": "execute_result"
    }
   ],
   "source": [
    "df_pandas.isnull().sum(axis=1)"
   ]
  },
  {
   "cell_type": "code",
   "execution_count": 41,
   "metadata": {
    "scrolled": false
   },
   "outputs": [
    {
     "name": "stdout",
     "output_type": "stream",
     "text": [
      "85 ms ± 1.71 ms per loop (mean ± std. dev. of 7 runs, 10 loops each)\n"
     ]
    }
   ],
   "source": [
    "%timeit df_pandas.isnull().sum(axis=1)"
   ]
  },
  {
   "cell_type": "markdown",
   "metadata": {},
   "source": [
    "## Completeness with pandas (Raw method)"
   ]
  },
  {
   "cell_type": "code",
   "execution_count": 42,
   "metadata": {},
   "outputs": [
    {
     "data": {
      "text/html": [
       "<div>\n",
       "<style scoped>\n",
       "    .dataframe tbody tr th:only-of-type {\n",
       "        vertical-align: middle;\n",
       "    }\n",
       "\n",
       "    .dataframe tbody tr th {\n",
       "        vertical-align: top;\n",
       "    }\n",
       "\n",
       "    .dataframe thead th {\n",
       "        text-align: right;\n",
       "    }\n",
       "</style>\n",
       "<table border=\"1\" class=\"dataframe\">\n",
       "  <thead>\n",
       "    <tr style=\"text-align: right;\">\n",
       "      <th></th>\n",
       "      <th>CODLINHA</th>\n",
       "      <th>NOMELINHA</th>\n",
       "      <th>CODVEICULO</th>\n",
       "      <th>NUMEROCARTAO</th>\n",
       "      <th>DATAUTILIZACAO</th>\n",
       "      <th>null-values</th>\n",
       "      <th>completeness</th>\n",
       "    </tr>\n",
       "  </thead>\n",
       "  <tbody>\n",
       "    <tr>\n",
       "      <th>0</th>\n",
       "      <td>280</td>\n",
       "      <td>N. SRA.DE NAZARÉ</td>\n",
       "      <td>BC911</td>\n",
       "      <td>1430250</td>\n",
       "      <td>07/10/15 07:37:02</td>\n",
       "      <td>0</td>\n",
       "      <td>100</td>\n",
       "    </tr>\n",
       "    <tr>\n",
       "      <th>1</th>\n",
       "      <td>280</td>\n",
       "      <td>N. SRA.DE NAZARÉ</td>\n",
       "      <td>BC911</td>\n",
       "      <td>2470195</td>\n",
       "      <td>07/10/15 07:51:25</td>\n",
       "      <td>0</td>\n",
       "      <td>100</td>\n",
       "    </tr>\n",
       "    <tr>\n",
       "      <th>2</th>\n",
       "      <td>280</td>\n",
       "      <td>N. SRA.DE NAZARÉ</td>\n",
       "      <td>BC911</td>\n",
       "      <td>3234514</td>\n",
       "      <td>07/10/15 18:49:49</td>\n",
       "      <td>0</td>\n",
       "      <td>100</td>\n",
       "    </tr>\n",
       "    <tr>\n",
       "      <th>3</th>\n",
       "      <td>280</td>\n",
       "      <td>N. SRA.DE NAZARÉ</td>\n",
       "      <td>BC911</td>\n",
       "      <td>3234514</td>\n",
       "      <td>07/10/15 18:49:51</td>\n",
       "      <td>0</td>\n",
       "      <td>100</td>\n",
       "    </tr>\n",
       "    <tr>\n",
       "      <th>4</th>\n",
       "      <td>000</td>\n",
       "      <td>OPER S/LINHA</td>\n",
       "      <td>08047</td>\n",
       "      <td>771305</td>\n",
       "      <td>07/10/15 16:47:16</td>\n",
       "      <td>0</td>\n",
       "      <td>100</td>\n",
       "    </tr>\n",
       "  </tbody>\n",
       "</table>\n",
       "</div>"
      ],
      "text/plain": [
       "  CODLINHA         NOMELINHA CODVEICULO  NUMEROCARTAO     DATAUTILIZACAO  \\\n",
       "0      280  N. SRA.DE NAZARÉ      BC911       1430250  07/10/15 07:37:02   \n",
       "1      280  N. SRA.DE NAZARÉ      BC911       2470195  07/10/15 07:51:25   \n",
       "2      280  N. SRA.DE NAZARÉ      BC911       3234514  07/10/15 18:49:49   \n",
       "3      280  N. SRA.DE NAZARÉ      BC911       3234514  07/10/15 18:49:51   \n",
       "4      000      OPER S/LINHA      08047        771305  07/10/15 16:47:16   \n",
       "\n",
       "   null-values  completeness  \n",
       "0            0           100  \n",
       "1            0           100  \n",
       "2            0           100  \n",
       "3            0           100  \n",
       "4            0           100  "
      ]
     },
     "execution_count": 42,
     "metadata": {},
     "output_type": "execute_result"
    }
   ],
   "source": [
    "import numpy as np\n",
    "\n",
    "test_pd_df = df_pandas\n",
    "test_pd_df['null-values'] = test_pd_df.isnull().sum(axis=1)\n",
    "\n",
    "\n",
    "conditions = [\n",
    "    test_pd_df['null-values'] == 0,\n",
    "    test_pd_df['null-values'] == 1,\n",
    "    test_pd_df['null-values'] == 2,\n",
    "    test_pd_df['null-values'] == 3,\n",
    "    test_pd_df['null-values'] == 4]\n",
    "choices = [100, 80, 60, 40, 20]\n",
    "test_pd_df['completeness'] = np.select(conditions, choices, default=0)\n",
    "\n",
    "test_pd_df.head(5)"
   ]
  },
  {
   "cell_type": "markdown",
   "metadata": {},
   "source": [
    "## Null values for column with pandas"
   ]
  },
  {
   "cell_type": "code",
   "execution_count": 43,
   "metadata": {
    "scrolled": false
   },
   "outputs": [
    {
     "name": "stdout",
     "output_type": "stream",
     "text": [
      "<class 'pandas.core.frame.DataFrame'>\n",
      "RangeIndex: 512013 entries, 0 to 512012\n",
      "Data columns (total 7 columns):\n",
      "CODLINHA          512013 non-null object\n",
      "NOMELINHA         512013 non-null object\n",
      "CODVEICULO        512013 non-null object\n",
      "NUMEROCARTAO      512013 non-null int64\n",
      "DATAUTILIZACAO    512013 non-null object\n",
      "null-values       512013 non-null int64\n",
      "completeness      512013 non-null int64\n",
      "dtypes: int64(3), object(4)\n",
      "memory usage: 27.3+ MB\n"
     ]
    }
   ],
   "source": [
    "df_pandas.info()"
   ]
  },
  {
   "cell_type": "markdown",
   "metadata": {},
   "source": [
    "## Null values for column with pyspark"
   ]
  },
  {
   "cell_type": "code",
   "execution_count": 44,
   "metadata": {},
   "outputs": [
    {
     "name": "stdout",
     "output_type": "stream",
     "text": [
      "+--------+---------+----------+------------+--------------+\n",
      "|CODLINHA|NOMELINHA|CODVEICULO|NUMEROCARTAO|DATAUTILIZACAO|\n",
      "+--------+---------+----------+------------+--------------+\n",
      "|       0|        0|         0|           0|             0|\n",
      "+--------+---------+----------+------------+--------------+\n",
      "\n"
     ]
    }
   ],
   "source": [
    "import pyspark.sql.functions as F\n",
    "\n",
    "df_agg = df.agg(*[F.count(F.when(F.isnull(c), c)).alias(c) for c in df.columns])\n",
    "\n",
    "df_agg.show()"
   ]
  },
  {
   "cell_type": "code",
   "execution_count": 45,
   "metadata": {
    "scrolled": true
   },
   "outputs": [
    {
     "name": "stdout",
     "output_type": "stream",
     "text": [
      "+--------------+----------+\n",
      "|   Column_Name|NULL_Count|\n",
      "+--------------+----------+\n",
      "|      CODLINHA|         0|\n",
      "|     NOMELINHA|         0|\n",
      "|    CODVEICULO|         0|\n",
      "|  NUMEROCARTAO|         0|\n",
      "|DATAUTILIZACAO|         0|\n",
      "+--------------+----------+\n",
      "\n"
     ]
    }
   ],
   "source": [
    "from functools import reduce\n",
    "df_agg_col = reduce(\n",
    "    lambda a, b: a.union(b),\n",
    "    (\n",
    "        df_agg.select(F.lit(c).alias(\"Column_Name\"), F.col(c).alias(\"NULL_Count\")) \n",
    "        for c in df_agg.columns\n",
    "    )\n",
    ")\n",
    "df_agg_col.show()"
   ]
  },
  {
   "cell_type": "markdown",
   "metadata": {},
   "source": [
    "## Count Null, NaN and empty of a column"
   ]
  },
  {
   "cell_type": "code",
   "execution_count": 46,
   "metadata": {},
   "outputs": [
    {
     "data": {
      "text/plain": [
       "0"
      ]
     },
     "execution_count": 46,
     "metadata": {},
     "output_type": "execute_result"
    }
   ],
   "source": [
    "from pyspark.sql.functions import isnan\n",
    "\n",
    "df.filter((df[\"codlinha\"] == \"\") | df[\"codlinha\"].isNull() | isnan(df[\"codlinha\"])).count()"
   ]
  },
  {
   "cell_type": "markdown",
   "metadata": {},
   "source": [
    "# Consistency"
   ]
  },
  {
   "cell_type": "code",
   "execution_count": 47,
   "metadata": {
    "scrolled": false
   },
   "outputs": [
    {
     "name": "stdout",
     "output_type": "stream",
     "text": [
      "<class 'pandas.core.frame.DataFrame'>\n",
      "RangeIndex: 512013 entries, 0 to 512012\n",
      "Data columns (total 7 columns):\n",
      "CODLINHA          512013 non-null object\n",
      "NOMELINHA         512013 non-null object\n",
      "CODVEICULO        512013 non-null object\n",
      "NUMEROCARTAO      512013 non-null int64\n",
      "DATAUTILIZACAO    512013 non-null object\n",
      "null-values       512013 non-null int64\n",
      "completeness      512013 non-null int64\n",
      "dtypes: int64(3), object(4)\n",
      "memory usage: 27.3+ MB\n",
      "<class 'pandas.core.frame.DataFrame'>\n",
      "RangeIndex: 257 entries, 0 to 256\n",
      "Data columns (total 2 columns):\n",
      "codlinha     257 non-null object\n",
      "nomelinha    257 non-null object\n",
      "dtypes: object(2)\n",
      "memory usage: 4.1+ KB\n"
     ]
    }
   ],
   "source": [
    "test_dict = df_pandas\n",
    "dict_pandas = pd.read_csv(\"dictionary.csv\")\n",
    "test_dict.info()\n",
    "dict_pandas.info()"
   ]
  },
  {
   "cell_type": "code",
   "execution_count": 48,
   "metadata": {},
   "outputs": [
    {
     "data": {
      "text/plain": [
       "'AVERDE/ABRANCHES'"
      ]
     },
     "execution_count": 48,
     "metadata": {},
     "output_type": "execute_result"
    }
   ],
   "source": [
    "dict_pandas2 = pd.read_csv(\"dictionary.csv\", index_col=\"codlinha\")\n",
    "row_dict = dict_pandas2.loc[\"180\"] \n",
    "row_dict[\"nomelinha\"]"
   ]
  },
  {
   "cell_type": "code",
   "execution_count": 49,
   "metadata": {},
   "outputs": [
    {
     "data": {
      "text/html": [
       "<div>\n",
       "<style scoped>\n",
       "    .dataframe tbody tr th:only-of-type {\n",
       "        vertical-align: middle;\n",
       "    }\n",
       "\n",
       "    .dataframe tbody tr th {\n",
       "        vertical-align: top;\n",
       "    }\n",
       "\n",
       "    .dataframe thead th {\n",
       "        text-align: right;\n",
       "    }\n",
       "</style>\n",
       "<table border=\"1\" class=\"dataframe\">\n",
       "  <thead>\n",
       "    <tr style=\"text-align: right;\">\n",
       "      <th></th>\n",
       "      <th>CODLINHA</th>\n",
       "      <th>NOMELINHA</th>\n",
       "      <th>CODVEICULO</th>\n",
       "      <th>NUMEROCARTAO</th>\n",
       "      <th>DATAUTILIZACAO</th>\n",
       "      <th>null-values</th>\n",
       "      <th>completeness</th>\n",
       "      <th>DICTIONARY</th>\n",
       "    </tr>\n",
       "  </thead>\n",
       "  <tbody>\n",
       "    <tr>\n",
       "      <th>0</th>\n",
       "      <td>280</td>\n",
       "      <td>N. SRA.DE NAZARÉ</td>\n",
       "      <td>BC911</td>\n",
       "      <td>1430250</td>\n",
       "      <td>07/10/15 07:37:02</td>\n",
       "      <td>0</td>\n",
       "      <td>100</td>\n",
       "      <td>1.0</td>\n",
       "    </tr>\n",
       "    <tr>\n",
       "      <th>1</th>\n",
       "      <td>280</td>\n",
       "      <td>N. SRA.DE NAZARÉ</td>\n",
       "      <td>BC911</td>\n",
       "      <td>2470195</td>\n",
       "      <td>07/10/15 07:51:25</td>\n",
       "      <td>0</td>\n",
       "      <td>100</td>\n",
       "      <td>1.0</td>\n",
       "    </tr>\n",
       "    <tr>\n",
       "      <th>2</th>\n",
       "      <td>280</td>\n",
       "      <td>N. SRA.DE NAZARÉ</td>\n",
       "      <td>BC911</td>\n",
       "      <td>3234514</td>\n",
       "      <td>07/10/15 18:49:49</td>\n",
       "      <td>0</td>\n",
       "      <td>100</td>\n",
       "      <td>1.0</td>\n",
       "    </tr>\n",
       "    <tr>\n",
       "      <th>3</th>\n",
       "      <td>280</td>\n",
       "      <td>N. SRA.DE NAZARÉ</td>\n",
       "      <td>BC911</td>\n",
       "      <td>3234514</td>\n",
       "      <td>07/10/15 18:49:51</td>\n",
       "      <td>0</td>\n",
       "      <td>100</td>\n",
       "      <td>1.0</td>\n",
       "    </tr>\n",
       "    <tr>\n",
       "      <th>4</th>\n",
       "      <td>000</td>\n",
       "      <td>OPER S/LINHA</td>\n",
       "      <td>08047</td>\n",
       "      <td>771305</td>\n",
       "      <td>07/10/15 16:47:16</td>\n",
       "      <td>0</td>\n",
       "      <td>100</td>\n",
       "      <td>1.0</td>\n",
       "    </tr>\n",
       "  </tbody>\n",
       "</table>\n",
       "</div>"
      ],
      "text/plain": [
       "  CODLINHA         NOMELINHA CODVEICULO  NUMEROCARTAO     DATAUTILIZACAO  \\\n",
       "0      280  N. SRA.DE NAZARÉ      BC911       1430250  07/10/15 07:37:02   \n",
       "1      280  N. SRA.DE NAZARÉ      BC911       2470195  07/10/15 07:51:25   \n",
       "2      280  N. SRA.DE NAZARÉ      BC911       3234514  07/10/15 18:49:49   \n",
       "3      280  N. SRA.DE NAZARÉ      BC911       3234514  07/10/15 18:49:51   \n",
       "4      000      OPER S/LINHA      08047        771305  07/10/15 16:47:16   \n",
       "\n",
       "   null-values  completeness  DICTIONARY  \n",
       "0            0           100         1.0  \n",
       "1            0           100         1.0  \n",
       "2            0           100         1.0  \n",
       "3            0           100         1.0  \n",
       "4            0           100         1.0  "
      ]
     },
     "execution_count": 49,
     "metadata": {},
     "output_type": "execute_result"
    }
   ],
   "source": [
    "#Ci mette un pochino, ma tanto va fatta una volta sola\n",
    "for i,row in test_dict.iterrows():\n",
    "    row_dict = dict_pandas2.loc[row[\"CODLINHA\"]]\n",
    "    if row_dict[\"nomelinha\"] == row[\"NOMELINHA\"]:\n",
    "        test_dict.at[i, 'DICTIONARY'] = 1\n",
    "        \n",
    "test_dict.head(5)"
   ]
  },
  {
   "cell_type": "code",
   "execution_count": 50,
   "metadata": {},
   "outputs": [],
   "source": [
    "#subsetDataFrame = dfObj[dfObj['Product'].isin(['Mangos', 'Grapes']) ]"
   ]
  },
  {
   "cell_type": "code",
   "execution_count": 51,
   "metadata": {},
   "outputs": [],
   "source": [
    "#a = test_dict.apply(lambda y: 1 if ((y['CODLINHA'] == dict_pandas['codlinha']),(y['NOMELINHA'] == dict_pandas['nomelinha'])) else 0, axis=1)\n",
    "#a\n",
    "\n",
    "\n",
    "#def check_dict(x):\n",
    "#    batch_df = df_pandas.apply(lambda y: 1 if (y['codlinha'] == x['codlinha'] and y['nomelinha'] == x['nomelinha']) else 0, axis=1)\n",
    "#    return batch_df\n",
    "\n",
    "#test_dict['dictionary'] = dict_pandas.apply(check_dict, axis=1)\n",
    "#test_dict"
   ]
  },
  {
   "cell_type": "markdown",
   "metadata": {},
   "source": [
    "## Faccio lista veicoli"
   ]
  },
  {
   "cell_type": "code",
   "execution_count": 52,
   "metadata": {},
   "outputs": [
    {
     "name": "stdout",
     "output_type": "stream",
     "text": [
      "+----------+-----+\n",
      "|CODVEICULO|count|\n",
      "+----------+-----+\n",
      "|     16S45|    1|\n",
      "|     JC316|    1|\n",
      "|     GR404|    1|\n",
      "|     EA179|    1|\n",
      "|     HA602|    1|\n",
      "|     AC282|    1|\n",
      "|     06065|    1|\n",
      "|     GA143|    1|\n",
      "|     GA165|    1|\n",
      "|     GN600|    1|\n",
      "|     AC019|    1|\n",
      "|     05049|    1|\n",
      "|     LA009|    1|\n",
      "|     HA283|    1|\n",
      "|     09028|    1|\n",
      "|     08023|    1|\n",
      "|     BC948|    1|\n",
      "|     GC001|    1|\n",
      "|     AC003|    1|\n",
      "|     HA924|    1|\n",
      "+----------+-----+\n",
      "only showing top 20 rows\n",
      "\n"
     ]
    }
   ],
   "source": [
    "df_distinct = df.dropDuplicates([\"CODVEICULO\"])\n",
    "df_distinct.groupBy(\"CODVEICULO\").count().orderBy('count', ascending=False).show()\n",
    "list_vehicle = df_distinct.select(df_distinct[\"CODVEICULO\"])\n",
    "list_vehicle.toPandas().to_csv('list_vehicle.csv', index=False)"
   ]
  },
  {
   "cell_type": "code",
   "execution_count": 53,
   "metadata": {},
   "outputs": [
    {
     "data": {
      "text/plain": [
       "1422"
      ]
     },
     "execution_count": 53,
     "metadata": {},
     "output_type": "execute_result"
    }
   ],
   "source": [
    "df_distinct.count()"
   ]
  },
  {
   "cell_type": "code",
   "execution_count": 54,
   "metadata": {
    "scrolled": true
   },
   "outputs": [
    {
     "name": "stdout",
     "output_type": "stream",
     "text": [
      "<class 'pandas.core.frame.DataFrame'>\n",
      "RangeIndex: 512013 entries, 0 to 512012\n",
      "Data columns (total 8 columns):\n",
      "CODLINHA          512013 non-null object\n",
      "NOMELINHA         512013 non-null object\n",
      "CODVEICULO        512013 non-null object\n",
      "NUMEROCARTAO      512013 non-null int64\n",
      "DATAUTILIZACAO    512013 non-null object\n",
      "null-values       512013 non-null int64\n",
      "completeness      512013 non-null int64\n",
      "DICTIONARY        512013 non-null float64\n",
      "dtypes: float64(1), int64(3), object(4)\n",
      "memory usage: 31.3+ MB\n",
      "<class 'pandas.core.frame.DataFrame'>\n",
      "RangeIndex: 1422 entries, 0 to 1421\n",
      "Data columns (total 1 columns):\n",
      "CODVEICULO    1422 non-null object\n",
      "dtypes: object(1)\n",
      "memory usage: 11.2+ KB\n"
     ]
    }
   ],
   "source": [
    "test_df = df_pandas\n",
    "#vehicle_pandas = pd.read_csv(\"list_vehicle.csv\", index_col=\"CODVEICULO\")\n",
    "vehicle_pandas = pd.read_csv(\"list_vehicle.csv\")\n",
    "test_df.info()\n",
    "vehicle_pandas.info()"
   ]
  },
  {
   "cell_type": "code",
   "execution_count": 55,
   "metadata": {
    "scrolled": false
   },
   "outputs": [
    {
     "data": {
      "text/html": [
       "<div>\n",
       "<style scoped>\n",
       "    .dataframe tbody tr th:only-of-type {\n",
       "        vertical-align: middle;\n",
       "    }\n",
       "\n",
       "    .dataframe tbody tr th {\n",
       "        vertical-align: top;\n",
       "    }\n",
       "\n",
       "    .dataframe thead th {\n",
       "        text-align: right;\n",
       "    }\n",
       "</style>\n",
       "<table border=\"1\" class=\"dataframe\">\n",
       "  <thead>\n",
       "    <tr style=\"text-align: right;\">\n",
       "      <th></th>\n",
       "      <th>CODVEICULO</th>\n",
       "    </tr>\n",
       "  </thead>\n",
       "  <tbody>\n",
       "    <tr>\n",
       "      <th>0</th>\n",
       "      <td>HA241</td>\n",
       "    </tr>\n",
       "    <tr>\n",
       "      <th>1</th>\n",
       "      <td>JC604</td>\n",
       "    </tr>\n",
       "    <tr>\n",
       "      <th>2</th>\n",
       "      <td>EC303</td>\n",
       "    </tr>\n",
       "    <tr>\n",
       "      <th>3</th>\n",
       "      <td>MN404</td>\n",
       "    </tr>\n",
       "    <tr>\n",
       "      <th>4</th>\n",
       "      <td>AB304</td>\n",
       "    </tr>\n",
       "  </tbody>\n",
       "</table>\n",
       "</div>"
      ],
      "text/plain": [
       "  CODVEICULO\n",
       "0      HA241\n",
       "1      JC604\n",
       "2      EC303\n",
       "3      MN404\n",
       "4      AB304"
      ]
     },
     "execution_count": 55,
     "metadata": {},
     "output_type": "execute_result"
    }
   ],
   "source": [
    "vehicle_pandas.head(5)"
   ]
  },
  {
   "cell_type": "code",
   "execution_count": 56,
   "metadata": {
    "scrolled": true
   },
   "outputs": [
    {
     "data": {
      "text/html": [
       "<div>\n",
       "<style scoped>\n",
       "    .dataframe tbody tr th:only-of-type {\n",
       "        vertical-align: middle;\n",
       "    }\n",
       "\n",
       "    .dataframe tbody tr th {\n",
       "        vertical-align: top;\n",
       "    }\n",
       "\n",
       "    .dataframe thead th {\n",
       "        text-align: right;\n",
       "    }\n",
       "</style>\n",
       "<table border=\"1\" class=\"dataframe\">\n",
       "  <thead>\n",
       "    <tr style=\"text-align: right;\">\n",
       "      <th></th>\n",
       "      <th>CODLINHA</th>\n",
       "      <th>NOMELINHA</th>\n",
       "      <th>CODVEICULO</th>\n",
       "      <th>NUMEROCARTAO</th>\n",
       "      <th>DATAUTILIZACAO</th>\n",
       "      <th>null-values</th>\n",
       "      <th>completeness</th>\n",
       "      <th>DICTIONARY</th>\n",
       "      <th>CHECKVEICULO</th>\n",
       "    </tr>\n",
       "  </thead>\n",
       "  <tbody>\n",
       "    <tr>\n",
       "      <th>0</th>\n",
       "      <td>280</td>\n",
       "      <td>N. SRA.DE NAZARÉ</td>\n",
       "      <td>BC911</td>\n",
       "      <td>1430250</td>\n",
       "      <td>07/10/15 07:37:02</td>\n",
       "      <td>0</td>\n",
       "      <td>100</td>\n",
       "      <td>1.0</td>\n",
       "      <td>True</td>\n",
       "    </tr>\n",
       "    <tr>\n",
       "      <th>1</th>\n",
       "      <td>280</td>\n",
       "      <td>N. SRA.DE NAZARÉ</td>\n",
       "      <td>BC911</td>\n",
       "      <td>2470195</td>\n",
       "      <td>07/10/15 07:51:25</td>\n",
       "      <td>0</td>\n",
       "      <td>100</td>\n",
       "      <td>1.0</td>\n",
       "      <td>True</td>\n",
       "    </tr>\n",
       "    <tr>\n",
       "      <th>2</th>\n",
       "      <td>280</td>\n",
       "      <td>N. SRA.DE NAZARÉ</td>\n",
       "      <td>BC911</td>\n",
       "      <td>3234514</td>\n",
       "      <td>07/10/15 18:49:49</td>\n",
       "      <td>0</td>\n",
       "      <td>100</td>\n",
       "      <td>1.0</td>\n",
       "      <td>True</td>\n",
       "    </tr>\n",
       "    <tr>\n",
       "      <th>3</th>\n",
       "      <td>280</td>\n",
       "      <td>N. SRA.DE NAZARÉ</td>\n",
       "      <td>BC911</td>\n",
       "      <td>3234514</td>\n",
       "      <td>07/10/15 18:49:51</td>\n",
       "      <td>0</td>\n",
       "      <td>100</td>\n",
       "      <td>1.0</td>\n",
       "      <td>True</td>\n",
       "    </tr>\n",
       "    <tr>\n",
       "      <th>4</th>\n",
       "      <td>000</td>\n",
       "      <td>OPER S/LINHA</td>\n",
       "      <td>08047</td>\n",
       "      <td>771305</td>\n",
       "      <td>07/10/15 16:47:16</td>\n",
       "      <td>0</td>\n",
       "      <td>100</td>\n",
       "      <td>1.0</td>\n",
       "      <td>True</td>\n",
       "    </tr>\n",
       "  </tbody>\n",
       "</table>\n",
       "</div>"
      ],
      "text/plain": [
       "  CODLINHA         NOMELINHA CODVEICULO  NUMEROCARTAO     DATAUTILIZACAO  \\\n",
       "0      280  N. SRA.DE NAZARÉ      BC911       1430250  07/10/15 07:37:02   \n",
       "1      280  N. SRA.DE NAZARÉ      BC911       2470195  07/10/15 07:51:25   \n",
       "2      280  N. SRA.DE NAZARÉ      BC911       3234514  07/10/15 18:49:49   \n",
       "3      280  N. SRA.DE NAZARÉ      BC911       3234514  07/10/15 18:49:51   \n",
       "4      000      OPER S/LINHA      08047        771305  07/10/15 16:47:16   \n",
       "\n",
       "   null-values  completeness  DICTIONARY  CHECKVEICULO  \n",
       "0            0           100         1.0          True  \n",
       "1            0           100         1.0          True  \n",
       "2            0           100         1.0          True  \n",
       "3            0           100         1.0          True  \n",
       "4            0           100         1.0          True  "
      ]
     },
     "execution_count": 56,
     "metadata": {},
     "output_type": "execute_result"
    }
   ],
   "source": [
    "test_df[\"CHECKVEICULO\"] = test_df[\"CODVEICULO\"].isin(vehicle_pandas[\"CODVEICULO\"])\n",
    "test_df.head(5)"
   ]
  },
  {
   "cell_type": "code",
   "execution_count": 57,
   "metadata": {},
   "outputs": [
    {
     "data": {
      "text/html": [
       "<div>\n",
       "<style scoped>\n",
       "    .dataframe tbody tr th:only-of-type {\n",
       "        vertical-align: middle;\n",
       "    }\n",
       "\n",
       "    .dataframe tbody tr th {\n",
       "        vertical-align: top;\n",
       "    }\n",
       "\n",
       "    .dataframe thead th {\n",
       "        text-align: right;\n",
       "    }\n",
       "</style>\n",
       "<table border=\"1\" class=\"dataframe\">\n",
       "  <thead>\n",
       "    <tr style=\"text-align: right;\">\n",
       "      <th></th>\n",
       "      <th>CODLINHA</th>\n",
       "      <th>NOMELINHA</th>\n",
       "      <th>CODVEICULO</th>\n",
       "      <th>NUMEROCARTAO</th>\n",
       "      <th>DATAUTILIZACAO</th>\n",
       "      <th>null-values</th>\n",
       "      <th>completeness</th>\n",
       "      <th>DICTIONARY</th>\n",
       "      <th>CHECKVEICULO</th>\n",
       "      <th>CHECKVEHICLE</th>\n",
       "    </tr>\n",
       "  </thead>\n",
       "  <tbody>\n",
       "    <tr>\n",
       "      <th>0</th>\n",
       "      <td>280</td>\n",
       "      <td>N. SRA.DE NAZARÉ</td>\n",
       "      <td>BC911</td>\n",
       "      <td>1430250</td>\n",
       "      <td>07/10/15 07:37:02</td>\n",
       "      <td>0</td>\n",
       "      <td>100</td>\n",
       "      <td>1.0</td>\n",
       "      <td>True</td>\n",
       "      <td>1.0</td>\n",
       "    </tr>\n",
       "    <tr>\n",
       "      <th>1</th>\n",
       "      <td>280</td>\n",
       "      <td>N. SRA.DE NAZARÉ</td>\n",
       "      <td>BC911</td>\n",
       "      <td>2470195</td>\n",
       "      <td>07/10/15 07:51:25</td>\n",
       "      <td>0</td>\n",
       "      <td>100</td>\n",
       "      <td>1.0</td>\n",
       "      <td>True</td>\n",
       "      <td>1.0</td>\n",
       "    </tr>\n",
       "    <tr>\n",
       "      <th>2</th>\n",
       "      <td>280</td>\n",
       "      <td>N. SRA.DE NAZARÉ</td>\n",
       "      <td>BC911</td>\n",
       "      <td>3234514</td>\n",
       "      <td>07/10/15 18:49:49</td>\n",
       "      <td>0</td>\n",
       "      <td>100</td>\n",
       "      <td>1.0</td>\n",
       "      <td>True</td>\n",
       "      <td>1.0</td>\n",
       "    </tr>\n",
       "    <tr>\n",
       "      <th>3</th>\n",
       "      <td>280</td>\n",
       "      <td>N. SRA.DE NAZARÉ</td>\n",
       "      <td>BC911</td>\n",
       "      <td>3234514</td>\n",
       "      <td>07/10/15 18:49:51</td>\n",
       "      <td>0</td>\n",
       "      <td>100</td>\n",
       "      <td>1.0</td>\n",
       "      <td>True</td>\n",
       "      <td>1.0</td>\n",
       "    </tr>\n",
       "    <tr>\n",
       "      <th>4</th>\n",
       "      <td>000</td>\n",
       "      <td>OPER S/LINHA</td>\n",
       "      <td>08047</td>\n",
       "      <td>771305</td>\n",
       "      <td>07/10/15 16:47:16</td>\n",
       "      <td>0</td>\n",
       "      <td>100</td>\n",
       "      <td>1.0</td>\n",
       "      <td>True</td>\n",
       "      <td>1.0</td>\n",
       "    </tr>\n",
       "  </tbody>\n",
       "</table>\n",
       "</div>"
      ],
      "text/plain": [
       "  CODLINHA         NOMELINHA CODVEICULO  NUMEROCARTAO     DATAUTILIZACAO  \\\n",
       "0      280  N. SRA.DE NAZARÉ      BC911       1430250  07/10/15 07:37:02   \n",
       "1      280  N. SRA.DE NAZARÉ      BC911       2470195  07/10/15 07:51:25   \n",
       "2      280  N. SRA.DE NAZARÉ      BC911       3234514  07/10/15 18:49:49   \n",
       "3      280  N. SRA.DE NAZARÉ      BC911       3234514  07/10/15 18:49:51   \n",
       "4      000      OPER S/LINHA      08047        771305  07/10/15 16:47:16   \n",
       "\n",
       "   null-values  completeness  DICTIONARY  CHECKVEICULO  CHECKVEHICLE  \n",
       "0            0           100         1.0          True           1.0  \n",
       "1            0           100         1.0          True           1.0  \n",
       "2            0           100         1.0          True           1.0  \n",
       "3            0           100         1.0          True           1.0  \n",
       "4            0           100         1.0          True           1.0  "
      ]
     },
     "execution_count": 57,
     "metadata": {},
     "output_type": "execute_result"
    }
   ],
   "source": [
    "for i,row in test_df.iterrows():\n",
    "    if row[\"CHECKVEICULO\"] == True:\n",
    "        test_df.at[i, 'CHECKVEHICLE'] = 1\n",
    "    else:\n",
    "        test_df.at[i, 'CHECKVEHICLE'] = 0\n",
    "        \n",
    "test_df.head(5)"
   ]
  },
  {
   "cell_type": "code",
   "execution_count": 58,
   "metadata": {
    "scrolled": true
   },
   "outputs": [
    {
     "data": {
      "text/html": [
       "<div>\n",
       "<style scoped>\n",
       "    .dataframe tbody tr th:only-of-type {\n",
       "        vertical-align: middle;\n",
       "    }\n",
       "\n",
       "    .dataframe tbody tr th {\n",
       "        vertical-align: top;\n",
       "    }\n",
       "\n",
       "    .dataframe thead th {\n",
       "        text-align: right;\n",
       "    }\n",
       "</style>\n",
       "<table border=\"1\" class=\"dataframe\">\n",
       "  <thead>\n",
       "    <tr style=\"text-align: right;\">\n",
       "      <th></th>\n",
       "      <th>CODLINHA</th>\n",
       "      <th>NOMELINHA</th>\n",
       "      <th>CODVEICULO</th>\n",
       "      <th>NUMEROCARTAO</th>\n",
       "      <th>DATAUTILIZACAO</th>\n",
       "      <th>null-values</th>\n",
       "      <th>completeness</th>\n",
       "      <th>DICTIONARY</th>\n",
       "      <th>CHECKVEHICLE</th>\n",
       "    </tr>\n",
       "  </thead>\n",
       "  <tbody>\n",
       "    <tr>\n",
       "      <th>0</th>\n",
       "      <td>280</td>\n",
       "      <td>N. SRA.DE NAZARÉ</td>\n",
       "      <td>BC911</td>\n",
       "      <td>1430250</td>\n",
       "      <td>07/10/15 07:37:02</td>\n",
       "      <td>0</td>\n",
       "      <td>100</td>\n",
       "      <td>1.0</td>\n",
       "      <td>1.0</td>\n",
       "    </tr>\n",
       "    <tr>\n",
       "      <th>1</th>\n",
       "      <td>280</td>\n",
       "      <td>N. SRA.DE NAZARÉ</td>\n",
       "      <td>BC911</td>\n",
       "      <td>2470195</td>\n",
       "      <td>07/10/15 07:51:25</td>\n",
       "      <td>0</td>\n",
       "      <td>100</td>\n",
       "      <td>1.0</td>\n",
       "      <td>1.0</td>\n",
       "    </tr>\n",
       "    <tr>\n",
       "      <th>2</th>\n",
       "      <td>280</td>\n",
       "      <td>N. SRA.DE NAZARÉ</td>\n",
       "      <td>BC911</td>\n",
       "      <td>3234514</td>\n",
       "      <td>07/10/15 18:49:49</td>\n",
       "      <td>0</td>\n",
       "      <td>100</td>\n",
       "      <td>1.0</td>\n",
       "      <td>1.0</td>\n",
       "    </tr>\n",
       "    <tr>\n",
       "      <th>3</th>\n",
       "      <td>280</td>\n",
       "      <td>N. SRA.DE NAZARÉ</td>\n",
       "      <td>BC911</td>\n",
       "      <td>3234514</td>\n",
       "      <td>07/10/15 18:49:51</td>\n",
       "      <td>0</td>\n",
       "      <td>100</td>\n",
       "      <td>1.0</td>\n",
       "      <td>1.0</td>\n",
       "    </tr>\n",
       "    <tr>\n",
       "      <th>4</th>\n",
       "      <td>000</td>\n",
       "      <td>OPER S/LINHA</td>\n",
       "      <td>08047</td>\n",
       "      <td>771305</td>\n",
       "      <td>07/10/15 16:47:16</td>\n",
       "      <td>0</td>\n",
       "      <td>100</td>\n",
       "      <td>1.0</td>\n",
       "      <td>1.0</td>\n",
       "    </tr>\n",
       "  </tbody>\n",
       "</table>\n",
       "</div>"
      ],
      "text/plain": [
       "  CODLINHA         NOMELINHA CODVEICULO  NUMEROCARTAO     DATAUTILIZACAO  \\\n",
       "0      280  N. SRA.DE NAZARÉ      BC911       1430250  07/10/15 07:37:02   \n",
       "1      280  N. SRA.DE NAZARÉ      BC911       2470195  07/10/15 07:51:25   \n",
       "2      280  N. SRA.DE NAZARÉ      BC911       3234514  07/10/15 18:49:49   \n",
       "3      280  N. SRA.DE NAZARÉ      BC911       3234514  07/10/15 18:49:51   \n",
       "4      000      OPER S/LINHA      08047        771305  07/10/15 16:47:16   \n",
       "\n",
       "   null-values  completeness  DICTIONARY  CHECKVEHICLE  \n",
       "0            0           100         1.0           1.0  \n",
       "1            0           100         1.0           1.0  \n",
       "2            0           100         1.0           1.0  \n",
       "3            0           100         1.0           1.0  \n",
       "4            0           100         1.0           1.0  "
      ]
     },
     "execution_count": 58,
     "metadata": {},
     "output_type": "execute_result"
    }
   ],
   "source": [
    "test_df=test_df.drop(['CHECKVEICULO'], axis=1)\n",
    "test_df.head(5)"
   ]
  },
  {
   "cell_type": "code",
   "execution_count": 59,
   "metadata": {},
   "outputs": [],
   "source": [
    "#test_df[\"CHECKVEHICLE\"].astype('int')\n",
    "#test_df.head(5)"
   ]
  },
  {
   "cell_type": "markdown",
   "metadata": {},
   "source": [
    "## Check numerocartao"
   ]
  },
  {
   "cell_type": "code",
   "execution_count": 60,
   "metadata": {},
   "outputs": [
    {
     "data": {
      "text/html": [
       "<div>\n",
       "<style scoped>\n",
       "    .dataframe tbody tr th:only-of-type {\n",
       "        vertical-align: middle;\n",
       "    }\n",
       "\n",
       "    .dataframe tbody tr th {\n",
       "        vertical-align: top;\n",
       "    }\n",
       "\n",
       "    .dataframe thead th {\n",
       "        text-align: right;\n",
       "    }\n",
       "</style>\n",
       "<table border=\"1\" class=\"dataframe\">\n",
       "  <thead>\n",
       "    <tr style=\"text-align: right;\">\n",
       "      <th></th>\n",
       "      <th>CODLINHA</th>\n",
       "      <th>NOMELINHA</th>\n",
       "      <th>CODVEICULO</th>\n",
       "      <th>NUMEROCARTAO</th>\n",
       "      <th>DATAUTILIZACAO</th>\n",
       "      <th>null-values</th>\n",
       "      <th>completeness</th>\n",
       "      <th>DICTIONARY</th>\n",
       "      <th>CHECKVEHICLE</th>\n",
       "      <th>CHECKCARTAO</th>\n",
       "    </tr>\n",
       "  </thead>\n",
       "  <tbody>\n",
       "    <tr>\n",
       "      <th>0</th>\n",
       "      <td>280</td>\n",
       "      <td>N. SRA.DE NAZARÉ</td>\n",
       "      <td>BC911</td>\n",
       "      <td>1430250</td>\n",
       "      <td>07/10/15 07:37:02</td>\n",
       "      <td>0</td>\n",
       "      <td>100</td>\n",
       "      <td>1.0</td>\n",
       "      <td>1.0</td>\n",
       "      <td>1.0</td>\n",
       "    </tr>\n",
       "    <tr>\n",
       "      <th>1</th>\n",
       "      <td>280</td>\n",
       "      <td>N. SRA.DE NAZARÉ</td>\n",
       "      <td>BC911</td>\n",
       "      <td>2470195</td>\n",
       "      <td>07/10/15 07:51:25</td>\n",
       "      <td>0</td>\n",
       "      <td>100</td>\n",
       "      <td>1.0</td>\n",
       "      <td>1.0</td>\n",
       "      <td>1.0</td>\n",
       "    </tr>\n",
       "    <tr>\n",
       "      <th>2</th>\n",
       "      <td>280</td>\n",
       "      <td>N. SRA.DE NAZARÉ</td>\n",
       "      <td>BC911</td>\n",
       "      <td>3234514</td>\n",
       "      <td>07/10/15 18:49:49</td>\n",
       "      <td>0</td>\n",
       "      <td>100</td>\n",
       "      <td>1.0</td>\n",
       "      <td>1.0</td>\n",
       "      <td>1.0</td>\n",
       "    </tr>\n",
       "    <tr>\n",
       "      <th>3</th>\n",
       "      <td>280</td>\n",
       "      <td>N. SRA.DE NAZARÉ</td>\n",
       "      <td>BC911</td>\n",
       "      <td>3234514</td>\n",
       "      <td>07/10/15 18:49:51</td>\n",
       "      <td>0</td>\n",
       "      <td>100</td>\n",
       "      <td>1.0</td>\n",
       "      <td>1.0</td>\n",
       "      <td>1.0</td>\n",
       "    </tr>\n",
       "    <tr>\n",
       "      <th>4</th>\n",
       "      <td>000</td>\n",
       "      <td>OPER S/LINHA</td>\n",
       "      <td>08047</td>\n",
       "      <td>771305</td>\n",
       "      <td>07/10/15 16:47:16</td>\n",
       "      <td>0</td>\n",
       "      <td>100</td>\n",
       "      <td>1.0</td>\n",
       "      <td>1.0</td>\n",
       "      <td>1.0</td>\n",
       "    </tr>\n",
       "  </tbody>\n",
       "</table>\n",
       "</div>"
      ],
      "text/plain": [
       "  CODLINHA         NOMELINHA CODVEICULO  NUMEROCARTAO     DATAUTILIZACAO  \\\n",
       "0      280  N. SRA.DE NAZARÉ      BC911       1430250  07/10/15 07:37:02   \n",
       "1      280  N. SRA.DE NAZARÉ      BC911       2470195  07/10/15 07:51:25   \n",
       "2      280  N. SRA.DE NAZARÉ      BC911       3234514  07/10/15 18:49:49   \n",
       "3      280  N. SRA.DE NAZARÉ      BC911       3234514  07/10/15 18:49:51   \n",
       "4      000      OPER S/LINHA      08047        771305  07/10/15 16:47:16   \n",
       "\n",
       "   null-values  completeness  DICTIONARY  CHECKVEHICLE  CHECKCARTAO  \n",
       "0            0           100         1.0           1.0          1.0  \n",
       "1            0           100         1.0           1.0          1.0  \n",
       "2            0           100         1.0           1.0          1.0  \n",
       "3            0           100         1.0           1.0          1.0  \n",
       "4            0           100         1.0           1.0          1.0  "
      ]
     },
     "execution_count": 60,
     "metadata": {},
     "output_type": "execute_result"
    }
   ],
   "source": [
    "for i,row in test_df.iterrows():\n",
    "    #row[\"NUMEROCARTAO\"].dtype == np.int64 \n",
    "    if isinstance(row[\"NUMEROCARTAO\"], int):\n",
    "        test_df.at[i, 'CHECKCARTAO'] = 1\n",
    "    else:\n",
    "        test_df.at[i, 'CHECKCARTAO'] = 0\n",
    "        \n",
    "test_df.head(5)"
   ]
  },
  {
   "cell_type": "markdown",
   "metadata": {},
   "source": [
    "## Check Datetime & Conformity"
   ]
  },
  {
   "cell_type": "code",
   "execution_count": 61,
   "metadata": {},
   "outputs": [],
   "source": [
    "# senza UTC per togliere il fuso orario\n",
    "#test_df[\"DATAUTILIZACAO\"] = pd.to_datetime(test_df[\"DATAUTILIZACAO\"], utc=True)\n",
    "#test_df.head(5)"
   ]
  },
  {
   "cell_type": "code",
   "execution_count": 102,
   "metadata": {},
   "outputs": [
    {
     "data": {
      "text/plain": [
       "<re.Match object; span=(0, 7), match='1430250'>"
      ]
     },
     "execution_count": 102,
     "metadata": {},
     "output_type": "execute_result"
    }
   ],
   "source": [
    "import re\n",
    "\n",
    "def is_datetime(str_datetime):\n",
    "    return re.search(\"^\\d\\d\\d\\d-(0?[1-9]|1[0-2])-(0?[1-9]|[12][0-9]|3[01]) (00|0?[0-9]|1[0-9]|2[0-3]):(0?[0-9]|[0-5][0-9]):(0?[0-9]|[0-5][0-9])\\+00:00$\", str_datetime)\n",
    "\n",
    "def is_strdate(str_datetime): #conformity datetime\n",
    "    return re.search(\"^(0?[1-9]|[12][0-9]|3[01])/(0?[1-9]|1[0-2])/\\d\\d (00|0?[0-9]|1[0-9]|2[0-3]):(0?[0-9]|[0-5][0-9]):(0?[0-9]|[0-5][0-9])$\", str_datetime)\n",
    "    \n",
    "def is_sameday(str_datetime): #consistency datetime\n",
    "    return re.search(\"^07/10/15 (00|0?[0-9]|1[0-9]|2[0-3]):(0?[0-9]|[0-5][0-9]):(0?[0-9]|[0-5][0-9])$\", str_datetime)\n",
    "\n",
    "def is_codlinha(str_datetime):\n",
    "    return re.search(\"^(\\d|[A-Z]){3}$\", str_datetime)\n",
    "\n",
    "def is_codveiculo(str_datetime):\n",
    "    return re.search(\"^(\\d\\d|[A-Z][A-Z])(\\d){3}$\", str_datetime)\n",
    "\n",
    "def is_codicecartao(str_datetime):\n",
    "    return re.search(\"^(\\d){1,10}$\", str_datetime)\n",
    "    \n",
    "    \n",
    "#check = is_datetime('2015-07-10 16:47:16+00:00')\n",
    "#check = is_strdate('07/10/15 18:49:51')\n",
    "#check = is_sameday('07/10/15 18:49:51')\n",
    "#check = is_codlinha('BC8')\n",
    "#check = is_codveiculo('AS602')\n",
    "check = is_codicecartao('1430250')\n",
    "check"
   ]
  },
  {
   "cell_type": "code",
   "execution_count": 73,
   "metadata": {},
   "outputs": [
    {
     "data": {
      "text/plain": [
       "5"
      ]
     },
     "execution_count": 73,
     "metadata": {},
     "output_type": "execute_result"
    }
   ],
   "source": [
    "if check:\n",
    "    a = 5\n",
    "else:\n",
    "    a = 3\n",
    "    \n",
    "a"
   ]
  },
  {
   "cell_type": "markdown",
   "metadata": {},
   "source": [
    "## Check conformity datetime"
   ]
  },
  {
   "cell_type": "code",
   "execution_count": 64,
   "metadata": {},
   "outputs": [
    {
     "data": {
      "text/html": [
       "<div>\n",
       "<style scoped>\n",
       "    .dataframe tbody tr th:only-of-type {\n",
       "        vertical-align: middle;\n",
       "    }\n",
       "\n",
       "    .dataframe tbody tr th {\n",
       "        vertical-align: top;\n",
       "    }\n",
       "\n",
       "    .dataframe thead th {\n",
       "        text-align: right;\n",
       "    }\n",
       "</style>\n",
       "<table border=\"1\" class=\"dataframe\">\n",
       "  <thead>\n",
       "    <tr style=\"text-align: right;\">\n",
       "      <th></th>\n",
       "      <th>CODLINHA</th>\n",
       "      <th>NOMELINHA</th>\n",
       "      <th>CODVEICULO</th>\n",
       "      <th>NUMEROCARTAO</th>\n",
       "      <th>DATAUTILIZACAO</th>\n",
       "      <th>null-values</th>\n",
       "      <th>completeness</th>\n",
       "      <th>DICTIONARY</th>\n",
       "      <th>CHECKVEHICLE</th>\n",
       "      <th>CHECKCARTAO</th>\n",
       "      <th>CHECKDATE</th>\n",
       "    </tr>\n",
       "  </thead>\n",
       "  <tbody>\n",
       "    <tr>\n",
       "      <th>0</th>\n",
       "      <td>280</td>\n",
       "      <td>N. SRA.DE NAZARÉ</td>\n",
       "      <td>BC911</td>\n",
       "      <td>1430250</td>\n",
       "      <td>07/10/15 07:37:02</td>\n",
       "      <td>0</td>\n",
       "      <td>100</td>\n",
       "      <td>1.0</td>\n",
       "      <td>1.0</td>\n",
       "      <td>1.0</td>\n",
       "      <td>1.0</td>\n",
       "    </tr>\n",
       "    <tr>\n",
       "      <th>1</th>\n",
       "      <td>280</td>\n",
       "      <td>N. SRA.DE NAZARÉ</td>\n",
       "      <td>BC911</td>\n",
       "      <td>2470195</td>\n",
       "      <td>07/10/15 07:51:25</td>\n",
       "      <td>0</td>\n",
       "      <td>100</td>\n",
       "      <td>1.0</td>\n",
       "      <td>1.0</td>\n",
       "      <td>1.0</td>\n",
       "      <td>1.0</td>\n",
       "    </tr>\n",
       "    <tr>\n",
       "      <th>2</th>\n",
       "      <td>280</td>\n",
       "      <td>N. SRA.DE NAZARÉ</td>\n",
       "      <td>BC911</td>\n",
       "      <td>3234514</td>\n",
       "      <td>07/10/15 18:49:49</td>\n",
       "      <td>0</td>\n",
       "      <td>100</td>\n",
       "      <td>1.0</td>\n",
       "      <td>1.0</td>\n",
       "      <td>1.0</td>\n",
       "      <td>1.0</td>\n",
       "    </tr>\n",
       "    <tr>\n",
       "      <th>3</th>\n",
       "      <td>280</td>\n",
       "      <td>N. SRA.DE NAZARÉ</td>\n",
       "      <td>BC911</td>\n",
       "      <td>3234514</td>\n",
       "      <td>07/10/15 18:49:51</td>\n",
       "      <td>0</td>\n",
       "      <td>100</td>\n",
       "      <td>1.0</td>\n",
       "      <td>1.0</td>\n",
       "      <td>1.0</td>\n",
       "      <td>1.0</td>\n",
       "    </tr>\n",
       "    <tr>\n",
       "      <th>4</th>\n",
       "      <td>000</td>\n",
       "      <td>OPER S/LINHA</td>\n",
       "      <td>08047</td>\n",
       "      <td>771305</td>\n",
       "      <td>07/10/15 16:47:16</td>\n",
       "      <td>0</td>\n",
       "      <td>100</td>\n",
       "      <td>1.0</td>\n",
       "      <td>1.0</td>\n",
       "      <td>1.0</td>\n",
       "      <td>1.0</td>\n",
       "    </tr>\n",
       "  </tbody>\n",
       "</table>\n",
       "</div>"
      ],
      "text/plain": [
       "  CODLINHA         NOMELINHA CODVEICULO  NUMEROCARTAO     DATAUTILIZACAO  \\\n",
       "0      280  N. SRA.DE NAZARÉ      BC911       1430250  07/10/15 07:37:02   \n",
       "1      280  N. SRA.DE NAZARÉ      BC911       2470195  07/10/15 07:51:25   \n",
       "2      280  N. SRA.DE NAZARÉ      BC911       3234514  07/10/15 18:49:49   \n",
       "3      280  N. SRA.DE NAZARÉ      BC911       3234514  07/10/15 18:49:51   \n",
       "4      000      OPER S/LINHA      08047        771305  07/10/15 16:47:16   \n",
       "\n",
       "   null-values  completeness  DICTIONARY  CHECKVEHICLE  CHECKCARTAO  CHECKDATE  \n",
       "0            0           100         1.0           1.0          1.0        1.0  \n",
       "1            0           100         1.0           1.0          1.0        1.0  \n",
       "2            0           100         1.0           1.0          1.0        1.0  \n",
       "3            0           100         1.0           1.0          1.0        1.0  \n",
       "4            0           100         1.0           1.0          1.0        1.0  "
      ]
     },
     "execution_count": 64,
     "metadata": {},
     "output_type": "execute_result"
    }
   ],
   "source": [
    "for i,row in test_df.iterrows():\n",
    "    #row[\"NUMEROCARTAO\"].dtype == np.int64 \n",
    "    check = is_strdate(row[\"DATAUTILIZACAO\"])\n",
    "    if check:\n",
    "        test_df.at[i, 'CHECKDATE'] = 1\n",
    "    else:\n",
    "        test_df.at[i, 'CHECKDATE'] = 0\n",
    "        \n",
    "test_df.head(5)"
   ]
  },
  {
   "cell_type": "markdown",
   "metadata": {},
   "source": [
    "## Consistency"
   ]
  },
  {
   "cell_type": "code",
   "execution_count": 65,
   "metadata": {
    "scrolled": true
   },
   "outputs": [
    {
     "data": {
      "text/html": [
       "<div>\n",
       "<style scoped>\n",
       "    .dataframe tbody tr th:only-of-type {\n",
       "        vertical-align: middle;\n",
       "    }\n",
       "\n",
       "    .dataframe tbody tr th {\n",
       "        vertical-align: top;\n",
       "    }\n",
       "\n",
       "    .dataframe thead th {\n",
       "        text-align: right;\n",
       "    }\n",
       "</style>\n",
       "<table border=\"1\" class=\"dataframe\">\n",
       "  <thead>\n",
       "    <tr style=\"text-align: right;\">\n",
       "      <th></th>\n",
       "      <th>CODLINHA</th>\n",
       "      <th>NOMELINHA</th>\n",
       "      <th>CODVEICULO</th>\n",
       "      <th>NUMEROCARTAO</th>\n",
       "      <th>DATAUTILIZACAO</th>\n",
       "      <th>null-values</th>\n",
       "      <th>completeness</th>\n",
       "      <th>DICTIONARY</th>\n",
       "      <th>CHECKVEHICLE</th>\n",
       "      <th>CHECKCARTAO</th>\n",
       "      <th>CHECKDATE</th>\n",
       "      <th>TOT</th>\n",
       "    </tr>\n",
       "  </thead>\n",
       "  <tbody>\n",
       "    <tr>\n",
       "      <th>0</th>\n",
       "      <td>280</td>\n",
       "      <td>N. SRA.DE NAZARÉ</td>\n",
       "      <td>BC911</td>\n",
       "      <td>1430250</td>\n",
       "      <td>07/10/15 07:37:02</td>\n",
       "      <td>0</td>\n",
       "      <td>100</td>\n",
       "      <td>1.0</td>\n",
       "      <td>1.0</td>\n",
       "      <td>1.0</td>\n",
       "      <td>1.0</td>\n",
       "      <td>4.0</td>\n",
       "    </tr>\n",
       "    <tr>\n",
       "      <th>1</th>\n",
       "      <td>280</td>\n",
       "      <td>N. SRA.DE NAZARÉ</td>\n",
       "      <td>BC911</td>\n",
       "      <td>2470195</td>\n",
       "      <td>07/10/15 07:51:25</td>\n",
       "      <td>0</td>\n",
       "      <td>100</td>\n",
       "      <td>1.0</td>\n",
       "      <td>1.0</td>\n",
       "      <td>1.0</td>\n",
       "      <td>1.0</td>\n",
       "      <td>4.0</td>\n",
       "    </tr>\n",
       "    <tr>\n",
       "      <th>2</th>\n",
       "      <td>280</td>\n",
       "      <td>N. SRA.DE NAZARÉ</td>\n",
       "      <td>BC911</td>\n",
       "      <td>3234514</td>\n",
       "      <td>07/10/15 18:49:49</td>\n",
       "      <td>0</td>\n",
       "      <td>100</td>\n",
       "      <td>1.0</td>\n",
       "      <td>1.0</td>\n",
       "      <td>1.0</td>\n",
       "      <td>1.0</td>\n",
       "      <td>4.0</td>\n",
       "    </tr>\n",
       "    <tr>\n",
       "      <th>3</th>\n",
       "      <td>280</td>\n",
       "      <td>N. SRA.DE NAZARÉ</td>\n",
       "      <td>BC911</td>\n",
       "      <td>3234514</td>\n",
       "      <td>07/10/15 18:49:51</td>\n",
       "      <td>0</td>\n",
       "      <td>100</td>\n",
       "      <td>1.0</td>\n",
       "      <td>1.0</td>\n",
       "      <td>1.0</td>\n",
       "      <td>1.0</td>\n",
       "      <td>4.0</td>\n",
       "    </tr>\n",
       "    <tr>\n",
       "      <th>4</th>\n",
       "      <td>000</td>\n",
       "      <td>OPER S/LINHA</td>\n",
       "      <td>08047</td>\n",
       "      <td>771305</td>\n",
       "      <td>07/10/15 16:47:16</td>\n",
       "      <td>0</td>\n",
       "      <td>100</td>\n",
       "      <td>1.0</td>\n",
       "      <td>1.0</td>\n",
       "      <td>1.0</td>\n",
       "      <td>1.0</td>\n",
       "      <td>4.0</td>\n",
       "    </tr>\n",
       "  </tbody>\n",
       "</table>\n",
       "</div>"
      ],
      "text/plain": [
       "  CODLINHA         NOMELINHA CODVEICULO  NUMEROCARTAO     DATAUTILIZACAO  \\\n",
       "0      280  N. SRA.DE NAZARÉ      BC911       1430250  07/10/15 07:37:02   \n",
       "1      280  N. SRA.DE NAZARÉ      BC911       2470195  07/10/15 07:51:25   \n",
       "2      280  N. SRA.DE NAZARÉ      BC911       3234514  07/10/15 18:49:49   \n",
       "3      280  N. SRA.DE NAZARÉ      BC911       3234514  07/10/15 18:49:51   \n",
       "4      000      OPER S/LINHA      08047        771305  07/10/15 16:47:16   \n",
       "\n",
       "   null-values  completeness  DICTIONARY  CHECKVEHICLE  CHECKCARTAO  \\\n",
       "0            0           100         1.0           1.0          1.0   \n",
       "1            0           100         1.0           1.0          1.0   \n",
       "2            0           100         1.0           1.0          1.0   \n",
       "3            0           100         1.0           1.0          1.0   \n",
       "4            0           100         1.0           1.0          1.0   \n",
       "\n",
       "   CHECKDATE  TOT  \n",
       "0        1.0  4.0  \n",
       "1        1.0  4.0  \n",
       "2        1.0  4.0  \n",
       "3        1.0  4.0  \n",
       "4        1.0  4.0  "
      ]
     },
     "execution_count": 65,
     "metadata": {},
     "output_type": "execute_result"
    }
   ],
   "source": [
    "for i,row in test_df.iterrows():\n",
    "    test_df.at[i, 'TOT'] = row[\"DICTIONARY\"] + row[\"CHECKVEHICLE\"] + row[\"CHECKCARTAO\"] + row[\"CHECKDATE\"]\n",
    "    \n",
    "test_df.head(5)"
   ]
  },
  {
   "cell_type": "code",
   "execution_count": 67,
   "metadata": {},
   "outputs": [
    {
     "data": {
      "text/html": [
       "<div>\n",
       "<style scoped>\n",
       "    .dataframe tbody tr th:only-of-type {\n",
       "        vertical-align: middle;\n",
       "    }\n",
       "\n",
       "    .dataframe tbody tr th {\n",
       "        vertical-align: top;\n",
       "    }\n",
       "\n",
       "    .dataframe thead th {\n",
       "        text-align: right;\n",
       "    }\n",
       "</style>\n",
       "<table border=\"1\" class=\"dataframe\">\n",
       "  <thead>\n",
       "    <tr style=\"text-align: right;\">\n",
       "      <th></th>\n",
       "      <th>CODLINHA</th>\n",
       "      <th>NOMELINHA</th>\n",
       "      <th>CODVEICULO</th>\n",
       "      <th>NUMEROCARTAO</th>\n",
       "      <th>DATAUTILIZACAO</th>\n",
       "      <th>null-values</th>\n",
       "      <th>completeness</th>\n",
       "      <th>DICTIONARY</th>\n",
       "      <th>CHECKVEHICLE</th>\n",
       "      <th>CHECKCARTAO</th>\n",
       "      <th>CHECKDATE</th>\n",
       "      <th>TOT</th>\n",
       "      <th>consistency</th>\n",
       "    </tr>\n",
       "  </thead>\n",
       "  <tbody>\n",
       "    <tr>\n",
       "      <th>0</th>\n",
       "      <td>280</td>\n",
       "      <td>N. SRA.DE NAZARÉ</td>\n",
       "      <td>BC911</td>\n",
       "      <td>1430250</td>\n",
       "      <td>07/10/15 07:37:02</td>\n",
       "      <td>0</td>\n",
       "      <td>100</td>\n",
       "      <td>1.0</td>\n",
       "      <td>1.0</td>\n",
       "      <td>1.0</td>\n",
       "      <td>1.0</td>\n",
       "      <td>4.0</td>\n",
       "      <td>100</td>\n",
       "    </tr>\n",
       "    <tr>\n",
       "      <th>1</th>\n",
       "      <td>280</td>\n",
       "      <td>N. SRA.DE NAZARÉ</td>\n",
       "      <td>BC911</td>\n",
       "      <td>2470195</td>\n",
       "      <td>07/10/15 07:51:25</td>\n",
       "      <td>0</td>\n",
       "      <td>100</td>\n",
       "      <td>1.0</td>\n",
       "      <td>1.0</td>\n",
       "      <td>1.0</td>\n",
       "      <td>1.0</td>\n",
       "      <td>4.0</td>\n",
       "      <td>100</td>\n",
       "    </tr>\n",
       "    <tr>\n",
       "      <th>2</th>\n",
       "      <td>280</td>\n",
       "      <td>N. SRA.DE NAZARÉ</td>\n",
       "      <td>BC911</td>\n",
       "      <td>3234514</td>\n",
       "      <td>07/10/15 18:49:49</td>\n",
       "      <td>0</td>\n",
       "      <td>100</td>\n",
       "      <td>1.0</td>\n",
       "      <td>1.0</td>\n",
       "      <td>1.0</td>\n",
       "      <td>1.0</td>\n",
       "      <td>4.0</td>\n",
       "      <td>100</td>\n",
       "    </tr>\n",
       "    <tr>\n",
       "      <th>3</th>\n",
       "      <td>280</td>\n",
       "      <td>N. SRA.DE NAZARÉ</td>\n",
       "      <td>BC911</td>\n",
       "      <td>3234514</td>\n",
       "      <td>07/10/15 18:49:51</td>\n",
       "      <td>0</td>\n",
       "      <td>100</td>\n",
       "      <td>1.0</td>\n",
       "      <td>1.0</td>\n",
       "      <td>1.0</td>\n",
       "      <td>1.0</td>\n",
       "      <td>4.0</td>\n",
       "      <td>100</td>\n",
       "    </tr>\n",
       "    <tr>\n",
       "      <th>4</th>\n",
       "      <td>000</td>\n",
       "      <td>OPER S/LINHA</td>\n",
       "      <td>08047</td>\n",
       "      <td>771305</td>\n",
       "      <td>07/10/15 16:47:16</td>\n",
       "      <td>0</td>\n",
       "      <td>100</td>\n",
       "      <td>1.0</td>\n",
       "      <td>1.0</td>\n",
       "      <td>1.0</td>\n",
       "      <td>1.0</td>\n",
       "      <td>4.0</td>\n",
       "      <td>100</td>\n",
       "    </tr>\n",
       "  </tbody>\n",
       "</table>\n",
       "</div>"
      ],
      "text/plain": [
       "  CODLINHA         NOMELINHA CODVEICULO  NUMEROCARTAO     DATAUTILIZACAO  \\\n",
       "0      280  N. SRA.DE NAZARÉ      BC911       1430250  07/10/15 07:37:02   \n",
       "1      280  N. SRA.DE NAZARÉ      BC911       2470195  07/10/15 07:51:25   \n",
       "2      280  N. SRA.DE NAZARÉ      BC911       3234514  07/10/15 18:49:49   \n",
       "3      280  N. SRA.DE NAZARÉ      BC911       3234514  07/10/15 18:49:51   \n",
       "4      000      OPER S/LINHA      08047        771305  07/10/15 16:47:16   \n",
       "\n",
       "   null-values  completeness  DICTIONARY  CHECKVEHICLE  CHECKCARTAO  \\\n",
       "0            0           100         1.0           1.0          1.0   \n",
       "1            0           100         1.0           1.0          1.0   \n",
       "2            0           100         1.0           1.0          1.0   \n",
       "3            0           100         1.0           1.0          1.0   \n",
       "4            0           100         1.0           1.0          1.0   \n",
       "\n",
       "   CHECKDATE  TOT  consistency  \n",
       "0        1.0  4.0          100  \n",
       "1        1.0  4.0          100  \n",
       "2        1.0  4.0          100  \n",
       "3        1.0  4.0          100  \n",
       "4        1.0  4.0          100  "
      ]
     },
     "execution_count": 67,
     "metadata": {},
     "output_type": "execute_result"
    }
   ],
   "source": [
    "conditions = [\n",
    "    test_df['TOT'] == 4.0,\n",
    "    test_df['TOT'] == 3.0,\n",
    "    test_df['TOT'] == 2.0,\n",
    "    test_df['TOT'] == 1.0]\n",
    "choices = [100, 75, 50, 25]\n",
    "test_df['consistency'] = np.select(conditions, choices, default=0)\n",
    "\n",
    "test_df.head(5)"
   ]
  },
  {
   "cell_type": "markdown",
   "metadata": {},
   "source": [
    "## Dirty completeness"
   ]
  },
  {
   "cell_type": "code",
   "execution_count": 126,
   "metadata": {},
   "outputs": [
    {
     "data": {
      "text/html": [
       "<div>\n",
       "<style scoped>\n",
       "    .dataframe tbody tr th:only-of-type {\n",
       "        vertical-align: middle;\n",
       "    }\n",
       "\n",
       "    .dataframe tbody tr th {\n",
       "        vertical-align: top;\n",
       "    }\n",
       "\n",
       "    .dataframe thead th {\n",
       "        text-align: right;\n",
       "    }\n",
       "</style>\n",
       "<table border=\"1\" class=\"dataframe\">\n",
       "  <thead>\n",
       "    <tr style=\"text-align: right;\">\n",
       "      <th></th>\n",
       "      <th>CODLINHA</th>\n",
       "      <th>NOMELINHA</th>\n",
       "      <th>CODVEICULO</th>\n",
       "      <th>NUMEROCARTAO</th>\n",
       "      <th>DATAUTILIZACAO</th>\n",
       "      <th>null-values</th>\n",
       "      <th>completeness</th>\n",
       "      <th>DICTIONARY</th>\n",
       "      <th>CHECKVEHICLE</th>\n",
       "      <th>CHECKCARTAO</th>\n",
       "      <th>CHECKDATE</th>\n",
       "      <th>TOT</th>\n",
       "      <th>consistency</th>\n",
       "    </tr>\n",
       "  </thead>\n",
       "  <tbody>\n",
       "    <tr>\n",
       "      <th>0</th>\n",
       "      <td>NaN</td>\n",
       "      <td>N. SRA.DE NAZARÉ</td>\n",
       "      <td>NaN</td>\n",
       "      <td>NaN</td>\n",
       "      <td>NaN</td>\n",
       "      <td>NaN</td>\n",
       "      <td>NaN</td>\n",
       "      <td>NaN</td>\n",
       "      <td>NaN</td>\n",
       "      <td>NaN</td>\n",
       "      <td>NaN</td>\n",
       "      <td>NaN</td>\n",
       "      <td>NaN</td>\n",
       "    </tr>\n",
       "    <tr>\n",
       "      <th>1</th>\n",
       "      <td>NaN</td>\n",
       "      <td>NaN</td>\n",
       "      <td>NaN</td>\n",
       "      <td>NaN</td>\n",
       "      <td>NaN</td>\n",
       "      <td>NaN</td>\n",
       "      <td>NaN</td>\n",
       "      <td>NaN</td>\n",
       "      <td>NaN</td>\n",
       "      <td>NaN</td>\n",
       "      <td>NaN</td>\n",
       "      <td>NaN</td>\n",
       "      <td>NaN</td>\n",
       "    </tr>\n",
       "    <tr>\n",
       "      <th>2</th>\n",
       "      <td>NaN</td>\n",
       "      <td>NaN</td>\n",
       "      <td>NaN</td>\n",
       "      <td>NaN</td>\n",
       "      <td>NaN</td>\n",
       "      <td>0.0</td>\n",
       "      <td>NaN</td>\n",
       "      <td>NaN</td>\n",
       "      <td>NaN</td>\n",
       "      <td>NaN</td>\n",
       "      <td>NaN</td>\n",
       "      <td>4.0</td>\n",
       "      <td>NaN</td>\n",
       "    </tr>\n",
       "    <tr>\n",
       "      <th>3</th>\n",
       "      <td>NaN</td>\n",
       "      <td>NaN</td>\n",
       "      <td>NaN</td>\n",
       "      <td>NaN</td>\n",
       "      <td>NaN</td>\n",
       "      <td>0.0</td>\n",
       "      <td>NaN</td>\n",
       "      <td>NaN</td>\n",
       "      <td>NaN</td>\n",
       "      <td>NaN</td>\n",
       "      <td>NaN</td>\n",
       "      <td>NaN</td>\n",
       "      <td>NaN</td>\n",
       "    </tr>\n",
       "    <tr>\n",
       "      <th>4</th>\n",
       "      <td>NaN</td>\n",
       "      <td>NaN</td>\n",
       "      <td>NaN</td>\n",
       "      <td>771305.0</td>\n",
       "      <td>NaN</td>\n",
       "      <td>NaN</td>\n",
       "      <td>NaN</td>\n",
       "      <td>NaN</td>\n",
       "      <td>NaN</td>\n",
       "      <td>NaN</td>\n",
       "      <td>NaN</td>\n",
       "      <td>NaN</td>\n",
       "      <td>NaN</td>\n",
       "    </tr>\n",
       "    <tr>\n",
       "      <th>5</th>\n",
       "      <td>NaN</td>\n",
       "      <td>NaN</td>\n",
       "      <td>NaN</td>\n",
       "      <td>NaN</td>\n",
       "      <td>NaN</td>\n",
       "      <td>NaN</td>\n",
       "      <td>100.0</td>\n",
       "      <td>NaN</td>\n",
       "      <td>NaN</td>\n",
       "      <td>NaN</td>\n",
       "      <td>NaN</td>\n",
       "      <td>NaN</td>\n",
       "      <td>NaN</td>\n",
       "    </tr>\n",
       "    <tr>\n",
       "      <th>6</th>\n",
       "      <td>629</td>\n",
       "      <td>NaN</td>\n",
       "      <td>NaN</td>\n",
       "      <td>NaN</td>\n",
       "      <td>NaN</td>\n",
       "      <td>0.0</td>\n",
       "      <td>NaN</td>\n",
       "      <td>NaN</td>\n",
       "      <td>NaN</td>\n",
       "      <td>NaN</td>\n",
       "      <td>NaN</td>\n",
       "      <td>NaN</td>\n",
       "      <td>NaN</td>\n",
       "    </tr>\n",
       "    <tr>\n",
       "      <th>7</th>\n",
       "      <td>NaN</td>\n",
       "      <td>NaN</td>\n",
       "      <td>NaN</td>\n",
       "      <td>NaN</td>\n",
       "      <td>NaN</td>\n",
       "      <td>NaN</td>\n",
       "      <td>NaN</td>\n",
       "      <td>NaN</td>\n",
       "      <td>NaN</td>\n",
       "      <td>NaN</td>\n",
       "      <td>NaN</td>\n",
       "      <td>4.0</td>\n",
       "      <td>NaN</td>\n",
       "    </tr>\n",
       "    <tr>\n",
       "      <th>8</th>\n",
       "      <td>NaN</td>\n",
       "      <td>NaN</td>\n",
       "      <td>NaN</td>\n",
       "      <td>NaN</td>\n",
       "      <td>NaN</td>\n",
       "      <td>0.0</td>\n",
       "      <td>NaN</td>\n",
       "      <td>1.0</td>\n",
       "      <td>NaN</td>\n",
       "      <td>NaN</td>\n",
       "      <td>NaN</td>\n",
       "      <td>NaN</td>\n",
       "      <td>NaN</td>\n",
       "    </tr>\n",
       "    <tr>\n",
       "      <th>9</th>\n",
       "      <td>NaN</td>\n",
       "      <td>ALTO BOQUEIRÃO</td>\n",
       "      <td>NaN</td>\n",
       "      <td>NaN</td>\n",
       "      <td>07/10/15 14:41:05</td>\n",
       "      <td>NaN</td>\n",
       "      <td>NaN</td>\n",
       "      <td>NaN</td>\n",
       "      <td>NaN</td>\n",
       "      <td>1.0</td>\n",
       "      <td>NaN</td>\n",
       "      <td>NaN</td>\n",
       "      <td>NaN</td>\n",
       "    </tr>\n",
       "  </tbody>\n",
       "</table>\n",
       "</div>"
      ],
      "text/plain": [
       "  CODLINHA         NOMELINHA CODVEICULO  NUMEROCARTAO     DATAUTILIZACAO  \\\n",
       "0      NaN  N. SRA.DE NAZARÉ        NaN           NaN                NaN   \n",
       "1      NaN               NaN        NaN           NaN                NaN   \n",
       "2      NaN               NaN        NaN           NaN                NaN   \n",
       "3      NaN               NaN        NaN           NaN                NaN   \n",
       "4      NaN               NaN        NaN      771305.0                NaN   \n",
       "5      NaN               NaN        NaN           NaN                NaN   \n",
       "6      629               NaN        NaN           NaN                NaN   \n",
       "7      NaN               NaN        NaN           NaN                NaN   \n",
       "8      NaN               NaN        NaN           NaN                NaN   \n",
       "9      NaN    ALTO BOQUEIRÃO        NaN           NaN  07/10/15 14:41:05   \n",
       "\n",
       "   null-values  completeness  DICTIONARY  CHECKVEHICLE  CHECKCARTAO  \\\n",
       "0          NaN           NaN         NaN           NaN          NaN   \n",
       "1          NaN           NaN         NaN           NaN          NaN   \n",
       "2          0.0           NaN         NaN           NaN          NaN   \n",
       "3          0.0           NaN         NaN           NaN          NaN   \n",
       "4          NaN           NaN         NaN           NaN          NaN   \n",
       "5          NaN         100.0         NaN           NaN          NaN   \n",
       "6          0.0           NaN         NaN           NaN          NaN   \n",
       "7          NaN           NaN         NaN           NaN          NaN   \n",
       "8          0.0           NaN         1.0           NaN          NaN   \n",
       "9          NaN           NaN         NaN           NaN          1.0   \n",
       "\n",
       "   CHECKDATE  TOT  consistency  \n",
       "0        NaN  NaN          NaN  \n",
       "1        NaN  NaN          NaN  \n",
       "2        NaN  4.0          NaN  \n",
       "3        NaN  NaN          NaN  \n",
       "4        NaN  NaN          NaN  \n",
       "5        NaN  NaN          NaN  \n",
       "6        NaN  NaN          NaN  \n",
       "7        NaN  4.0          NaN  \n",
       "8        NaN  NaN          NaN  \n",
       "9        NaN  NaN          NaN  "
      ]
     },
     "execution_count": 126,
     "metadata": {},
     "output_type": "execute_result"
    }
   ],
   "source": [
    "df2=test_df.copy()\n",
    "\n",
    "df2 = df2.mask(np.random.choice([True, False], size=df2.shape, p=[.9,.1]))\n",
    "df2.head(10)"
   ]
  },
  {
   "cell_type": "code",
   "execution_count": null,
   "metadata": {},
   "outputs": [],
   "source": []
  }
 ],
 "metadata": {
  "kernelspec": {
   "display_name": "Python 3",
   "language": "python",
   "name": "python3"
  },
  "language_info": {
   "codemirror_mode": {
    "name": "ipython",
    "version": 3
   },
   "file_extension": ".py",
   "mimetype": "text/x-python",
   "name": "python",
   "nbconvert_exporter": "python",
   "pygments_lexer": "ipython3",
   "version": "3.7.0"
  }
 },
 "nbformat": 4,
 "nbformat_minor": 2
}
