{
 "cells": [
  {
   "cell_type": "code",
   "execution_count": 1,
   "metadata": {},
   "outputs": [
    {
     "data": {
      "text/html": [
       "<div>\n",
       "<style scoped>\n",
       "    .dataframe tbody tr th:only-of-type {\n",
       "        vertical-align: middle;\n",
       "    }\n",
       "\n",
       "    .dataframe tbody tr th {\n",
       "        vertical-align: top;\n",
       "    }\n",
       "\n",
       "    .dataframe thead th {\n",
       "        text-align: right;\n",
       "    }\n",
       "</style>\n",
       "<table border=\"1\" class=\"dataframe\">\n",
       "  <thead>\n",
       "    <tr style=\"text-align: right;\">\n",
       "      <th></th>\n",
       "      <th>CODLINHA</th>\n",
       "      <th>NOMELINHA</th>\n",
       "      <th>CODVEICULO</th>\n",
       "      <th>NUMEROCARTAO</th>\n",
       "      <th>DATAUTILIZACAO</th>\n",
       "    </tr>\n",
       "  </thead>\n",
       "  <tbody>\n",
       "    <tr>\n",
       "      <th>0</th>\n",
       "      <td>ARA</td>\n",
       "      <td>SISTEMA ARAUCARIA</td>\n",
       "      <td>00181</td>\n",
       "      <td>2624774</td>\n",
       "      <td>20/10/15 17:35:27</td>\n",
       "    </tr>\n",
       "    <tr>\n",
       "      <th>1</th>\n",
       "      <td>ARA</td>\n",
       "      <td>SISTEMA ARAUCARIA</td>\n",
       "      <td>00994</td>\n",
       "      <td>2575080</td>\n",
       "      <td>20/10/15 18:25:34</td>\n",
       "    </tr>\n",
       "    <tr>\n",
       "      <th>2</th>\n",
       "      <td>ARA</td>\n",
       "      <td>SISTEMA ARAUCARIA</td>\n",
       "      <td>00232</td>\n",
       "      <td>2849283</td>\n",
       "      <td>20/10/15 09:49:50</td>\n",
       "    </tr>\n",
       "    <tr>\n",
       "      <th>3</th>\n",
       "      <td>ARA</td>\n",
       "      <td>SISTEMA ARAUCARIA</td>\n",
       "      <td>00232</td>\n",
       "      <td>1502669</td>\n",
       "      <td>20/10/15 13:07:02</td>\n",
       "    </tr>\n",
       "    <tr>\n",
       "      <th>4</th>\n",
       "      <td>ARA</td>\n",
       "      <td>SISTEMA ARAUCARIA</td>\n",
       "      <td>00998</td>\n",
       "      <td>3535943</td>\n",
       "      <td>20/10/15 09:55:50</td>\n",
       "    </tr>\n",
       "  </tbody>\n",
       "</table>\n",
       "</div>"
      ],
      "text/plain": [
       "  CODLINHA          NOMELINHA CODVEICULO  NUMEROCARTAO     DATAUTILIZACAO\n",
       "0      ARA  SISTEMA ARAUCARIA      00181       2624774  20/10/15 17:35:27\n",
       "1      ARA  SISTEMA ARAUCARIA      00994       2575080  20/10/15 18:25:34\n",
       "2      ARA  SISTEMA ARAUCARIA      00232       2849283  20/10/15 09:49:50\n",
       "3      ARA  SISTEMA ARAUCARIA      00232       1502669  20/10/15 13:07:02\n",
       "4      ARA  SISTEMA ARAUCARIA      00998       3535943  20/10/15 09:55:50"
      ]
     },
     "execution_count": 1,
     "metadata": {},
     "output_type": "execute_result"
    }
   ],
   "source": [
    "import pandas as pd\n",
    "\n",
    "df_pandas = pd.read_csv(\"doc2-2015102121.csv\")\n",
    "df_pandas.head(5)"
   ]
  },
  {
   "cell_type": "markdown",
   "metadata": {},
   "source": [
    "## Create List Linha"
   ]
  },
  {
   "cell_type": "code",
   "execution_count": 2,
   "metadata": {},
   "outputs": [],
   "source": [
    "from pyspark.sql import SparkSession\n",
    "\n",
    "spark = SparkSession \\\n",
    "    .builder \\\n",
    "    .appName(\"Python Spark SQL basic example\") \\\n",
    "    .config(\"spark.some.config.option\", \"some-value\") \\\n",
    "    .getOrCreate()"
   ]
  },
  {
   "cell_type": "code",
   "execution_count": 3,
   "metadata": {},
   "outputs": [
    {
     "name": "stdout",
     "output_type": "stream",
     "text": [
      "+--------+-----------------+----------+------------+-----------------+\n",
      "|CODLINHA|        NOMELINHA|CODVEICULO|NUMEROCARTAO|   DATAUTILIZACAO|\n",
      "+--------+-----------------+----------+------------+-----------------+\n",
      "|     ARA|SISTEMA ARAUCARIA|     00181|  0002624774|20/10/15 17:35:27|\n",
      "|     ARA|SISTEMA ARAUCARIA|     00994|  0002575080|20/10/15 18:25:34|\n",
      "|     ARA|SISTEMA ARAUCARIA|     00232|  0002849283|20/10/15 09:49:50|\n",
      "|     ARA|SISTEMA ARAUCARIA|     00232|  0001502669|20/10/15 13:07:02|\n",
      "|     ARA|SISTEMA ARAUCARIA|     00998|  0003535943|20/10/15 09:55:50|\n",
      "+--------+-----------------+----------+------------+-----------------+\n",
      "only showing top 5 rows\n",
      "\n"
     ]
    }
   ],
   "source": [
    "df_spark = spark.read.csv(\"doc2-2015102121.csv\", header = True)\n",
    "df_spark.show(5)"
   ]
  },
  {
   "cell_type": "code",
   "execution_count": 4,
   "metadata": {},
   "outputs": [
    {
     "name": "stdout",
     "output_type": "stream",
     "text": [
      "+--------+----------------+\n",
      "|CODLINHA|       NOMELINHA|\n",
      "+--------+----------------+\n",
      "|     180|AVERDE/ABRANCHES|\n",
      "|     271|     LARANJEIRAS|\n",
      "|     331|        MERCÚRIO|\n",
      "|     673|         FORMOSA|\n",
      "|     674|  N. SRA. DA LUZ|\n",
      "+--------+----------------+\n",
      "only showing top 5 rows\n",
      "\n"
     ]
    }
   ],
   "source": [
    "df_distinct = df_spark.dropDuplicates(['CODLINHA', 'NOMELINHA'])\n",
    "list_linha = df_distinct.select(df_distinct[\"CODLINHA\"], df_distinct[\"NOMELINHA\"])\n",
    "list_linha.toPandas().to_csv('../csv-aggiuntivi/doc2-2015102121/list_linha.csv', index=False)\n",
    "list_linha.show(5)"
   ]
  },
  {
   "cell_type": "code",
   "execution_count": 5,
   "metadata": {},
   "outputs": [
    {
     "data": {
      "text/plain": [
       "256"
      ]
     },
     "execution_count": 5,
     "metadata": {},
     "output_type": "execute_result"
    }
   ],
   "source": [
    "list_linha.count()"
   ]
  },
  {
   "cell_type": "markdown",
   "metadata": {},
   "source": [
    "## Create List Vehicle"
   ]
  },
  {
   "cell_type": "code",
   "execution_count": 6,
   "metadata": {},
   "outputs": [
    {
     "name": "stdout",
     "output_type": "stream",
     "text": [
      "+----------+\n",
      "|CODVEICULO|\n",
      "+----------+\n",
      "|     JC604|\n",
      "|     HA241|\n",
      "|     EC303|\n",
      "|     DA015|\n",
      "|     HA030|\n",
      "+----------+\n",
      "only showing top 5 rows\n",
      "\n"
     ]
    }
   ],
   "source": [
    "df_distinct = df_spark.dropDuplicates([\"CODVEICULO\"])\n",
    "list_vehicle = df_distinct.select(df_distinct[\"CODVEICULO\"])\n",
    "list_vehicle.toPandas().to_csv('../csv-aggiuntivi/doc2-2015102121/list_vehicle.csv', index=False)\n",
    "list_vehicle.show(5)"
   ]
  },
  {
   "cell_type": "code",
   "execution_count": 7,
   "metadata": {
    "scrolled": true
   },
   "outputs": [
    {
     "data": {
      "text/plain": [
       "1429"
      ]
     },
     "execution_count": 7,
     "metadata": {},
     "output_type": "execute_result"
    }
   ],
   "source": [
    "list_vehicle.count()"
   ]
  },
  {
   "cell_type": "markdown",
   "metadata": {},
   "source": [
    "# Dirt Consistency "
   ]
  },
  {
   "cell_type": "code",
   "execution_count": 8,
   "metadata": {},
   "outputs": [],
   "source": [
    "import rstr\n",
    "import numpy as np\n",
    "from tqdm import tqdm\n",
    "import random"
   ]
  },
  {
   "cell_type": "code",
   "execution_count": 9,
   "metadata": {},
   "outputs": [],
   "source": [
    "df_dirt = df_pandas.copy()\n",
    "df_dirt['NUMEROCARTAO'] = df_dirt['NUMEROCARTAO'].astype(str)"
   ]
  },
  {
   "cell_type": "markdown",
   "metadata": {},
   "source": [
    "## codlinha dirt: 10%"
   ]
  },
  {
   "cell_type": "code",
   "execution_count": 10,
   "metadata": {
    "scrolled": true
   },
   "outputs": [
    {
     "data": {
      "text/plain": [
       "array([False])"
      ]
     },
     "execution_count": 10,
     "metadata": {},
     "output_type": "execute_result"
    }
   ],
   "source": [
    "np.random.choice([True, False], size=1, p=[.1,.9])"
   ]
  },
  {
   "cell_type": "code",
   "execution_count": 11,
   "metadata": {},
   "outputs": [
    {
     "data": {
      "text/html": [
       "<div>\n",
       "<style scoped>\n",
       "    .dataframe tbody tr th:only-of-type {\n",
       "        vertical-align: middle;\n",
       "    }\n",
       "\n",
       "    .dataframe tbody tr th {\n",
       "        vertical-align: top;\n",
       "    }\n",
       "\n",
       "    .dataframe thead th {\n",
       "        text-align: right;\n",
       "    }\n",
       "</style>\n",
       "<table border=\"1\" class=\"dataframe\">\n",
       "  <thead>\n",
       "    <tr style=\"text-align: right;\">\n",
       "      <th></th>\n",
       "      <th>CODLINHA</th>\n",
       "      <th>NOMELINHA</th>\n",
       "      <th>CODVEICULO</th>\n",
       "      <th>NUMEROCARTAO</th>\n",
       "      <th>DATAUTILIZACAO</th>\n",
       "    </tr>\n",
       "  </thead>\n",
       "  <tbody>\n",
       "    <tr>\n",
       "      <th>0</th>\n",
       "      <td>ARA</td>\n",
       "      <td>SISTEMA ARAUCARIA</td>\n",
       "      <td>00181</td>\n",
       "      <td>2624774</td>\n",
       "      <td>20/10/15 17:35:27</td>\n",
       "    </tr>\n",
       "    <tr>\n",
       "      <th>1</th>\n",
       "      <td>ARA</td>\n",
       "      <td>SISTEMA ARAUCARIA</td>\n",
       "      <td>00994</td>\n",
       "      <td>2575080</td>\n",
       "      <td>20/10/15 18:25:34</td>\n",
       "    </tr>\n",
       "    <tr>\n",
       "      <th>2</th>\n",
       "      <td>ARA</td>\n",
       "      <td>SISTEMA ARAUCARIA</td>\n",
       "      <td>00232</td>\n",
       "      <td>2849283</td>\n",
       "      <td>20/10/15 09:49:50</td>\n",
       "    </tr>\n",
       "    <tr>\n",
       "      <th>3</th>\n",
       "      <td>ARA</td>\n",
       "      <td>SISTEMA ARAUCARIA</td>\n",
       "      <td>00232</td>\n",
       "      <td>1502669</td>\n",
       "      <td>20/10/15 13:07:02</td>\n",
       "    </tr>\n",
       "    <tr>\n",
       "      <th>4</th>\n",
       "      <td>000</td>\n",
       "      <td>SISTEMA ARAUCARIA</td>\n",
       "      <td>00998</td>\n",
       "      <td>3535943</td>\n",
       "      <td>20/10/15 09:55:50</td>\n",
       "    </tr>\n",
       "    <tr>\n",
       "      <th>5</th>\n",
       "      <td>ARA</td>\n",
       "      <td>SISTEMA ARAUCARIA</td>\n",
       "      <td>00998</td>\n",
       "      <td>3496859</td>\n",
       "      <td>20/10/15 12:37:20</td>\n",
       "    </tr>\n",
       "    <tr>\n",
       "      <th>6</th>\n",
       "      <td>ARA</td>\n",
       "      <td>SISTEMA ARAUCARIA</td>\n",
       "      <td>00998</td>\n",
       "      <td>2883869</td>\n",
       "      <td>20/10/15 13:21:18</td>\n",
       "    </tr>\n",
       "    <tr>\n",
       "      <th>7</th>\n",
       "      <td>ARA</td>\n",
       "      <td>SISTEMA ARAUCARIA</td>\n",
       "      <td>00998</td>\n",
       "      <td>1484432</td>\n",
       "      <td>20/10/15 14:28:42</td>\n",
       "    </tr>\n",
       "    <tr>\n",
       "      <th>8</th>\n",
       "      <td>ARA</td>\n",
       "      <td>SISTEMA ARAUCARIA</td>\n",
       "      <td>00230</td>\n",
       "      <td>2640737</td>\n",
       "      <td>20/10/15 13:32:22</td>\n",
       "    </tr>\n",
       "    <tr>\n",
       "      <th>9</th>\n",
       "      <td>ARA</td>\n",
       "      <td>SISTEMA ARAUCARIA</td>\n",
       "      <td>00230</td>\n",
       "      <td>2640737</td>\n",
       "      <td>20/10/15 13:32:27</td>\n",
       "    </tr>\n",
       "    <tr>\n",
       "      <th>10</th>\n",
       "      <td>ARA</td>\n",
       "      <td>SISTEMA ARAUCARIA</td>\n",
       "      <td>00999</td>\n",
       "      <td>2490976</td>\n",
       "      <td>20/10/15 12:16:05</td>\n",
       "    </tr>\n",
       "    <tr>\n",
       "      <th>11</th>\n",
       "      <td>ARA</td>\n",
       "      <td>SISTEMA ARAUCARIA</td>\n",
       "      <td>00204</td>\n",
       "      <td>3522169</td>\n",
       "      <td>20/10/15 07:15:04</td>\n",
       "    </tr>\n",
       "    <tr>\n",
       "      <th>12</th>\n",
       "      <td>ARA</td>\n",
       "      <td>SISTEMA ARAUCARIA</td>\n",
       "      <td>00200</td>\n",
       "      <td>3388484</td>\n",
       "      <td>20/10/15 06:44:02</td>\n",
       "    </tr>\n",
       "    <tr>\n",
       "      <th>13</th>\n",
       "      <td>ARA</td>\n",
       "      <td>SISTEMA ARAUCARIA</td>\n",
       "      <td>00234</td>\n",
       "      <td>2761958</td>\n",
       "      <td>20/10/15 05:03:58</td>\n",
       "    </tr>\n",
       "    <tr>\n",
       "      <th>14</th>\n",
       "      <td>ARA</td>\n",
       "      <td>SISTEMA ARAUCARIA</td>\n",
       "      <td>00234</td>\n",
       "      <td>2684491</td>\n",
       "      <td>20/10/15 06:27:09</td>\n",
       "    </tr>\n",
       "    <tr>\n",
       "      <th>15</th>\n",
       "      <td>ARA</td>\n",
       "      <td>SISTEMA ARAUCARIA</td>\n",
       "      <td>00238</td>\n",
       "      <td>2805444</td>\n",
       "      <td>20/10/15 05:29:17</td>\n",
       "    </tr>\n",
       "    <tr>\n",
       "      <th>16</th>\n",
       "      <td>ARA</td>\n",
       "      <td>SISTEMA ARAUCARIA</td>\n",
       "      <td>00238</td>\n",
       "      <td>2729517</td>\n",
       "      <td>20/10/15 06:58:16</td>\n",
       "    </tr>\n",
       "    <tr>\n",
       "      <th>17</th>\n",
       "      <td>ARA</td>\n",
       "      <td>SISTEMA ARAUCARIA</td>\n",
       "      <td>00238</td>\n",
       "      <td>3193356</td>\n",
       "      <td>20/10/15 08:27:32</td>\n",
       "    </tr>\n",
       "    <tr>\n",
       "      <th>18</th>\n",
       "      <td>ARA</td>\n",
       "      <td>SISTEMA ARAUCARIA</td>\n",
       "      <td>00238</td>\n",
       "      <td>2539145</td>\n",
       "      <td>20/10/15 08:31:11</td>\n",
       "    </tr>\n",
       "    <tr>\n",
       "      <th>19</th>\n",
       "      <td>ARA</td>\n",
       "      <td>SISTEMA ARAUCARIA</td>\n",
       "      <td>00238</td>\n",
       "      <td>3164699</td>\n",
       "      <td>20/10/15 06:59:32</td>\n",
       "    </tr>\n",
       "  </tbody>\n",
       "</table>\n",
       "</div>"
      ],
      "text/plain": [
       "   CODLINHA          NOMELINHA CODVEICULO NUMEROCARTAO     DATAUTILIZACAO\n",
       "0       ARA  SISTEMA ARAUCARIA      00181      2624774  20/10/15 17:35:27\n",
       "1       ARA  SISTEMA ARAUCARIA      00994      2575080  20/10/15 18:25:34\n",
       "2       ARA  SISTEMA ARAUCARIA      00232      2849283  20/10/15 09:49:50\n",
       "3       ARA  SISTEMA ARAUCARIA      00232      1502669  20/10/15 13:07:02\n",
       "4       000  SISTEMA ARAUCARIA      00998      3535943  20/10/15 09:55:50\n",
       "5       ARA  SISTEMA ARAUCARIA      00998      3496859  20/10/15 12:37:20\n",
       "6       ARA  SISTEMA ARAUCARIA      00998      2883869  20/10/15 13:21:18\n",
       "7       ARA  SISTEMA ARAUCARIA      00998      1484432  20/10/15 14:28:42\n",
       "8       ARA  SISTEMA ARAUCARIA      00230      2640737  20/10/15 13:32:22\n",
       "9       ARA  SISTEMA ARAUCARIA      00230      2640737  20/10/15 13:32:27\n",
       "10      ARA  SISTEMA ARAUCARIA      00999      2490976  20/10/15 12:16:05\n",
       "11      ARA  SISTEMA ARAUCARIA      00204      3522169  20/10/15 07:15:04\n",
       "12      ARA  SISTEMA ARAUCARIA      00200      3388484  20/10/15 06:44:02\n",
       "13      ARA  SISTEMA ARAUCARIA      00234      2761958  20/10/15 05:03:58\n",
       "14      ARA  SISTEMA ARAUCARIA      00234      2684491  20/10/15 06:27:09\n",
       "15      ARA  SISTEMA ARAUCARIA      00238      2805444  20/10/15 05:29:17\n",
       "16      ARA  SISTEMA ARAUCARIA      00238      2729517  20/10/15 06:58:16\n",
       "17      ARA  SISTEMA ARAUCARIA      00238      3193356  20/10/15 08:27:32\n",
       "18      ARA  SISTEMA ARAUCARIA      00238      2539145  20/10/15 08:31:11\n",
       "19      ARA  SISTEMA ARAUCARIA      00238      3164699  20/10/15 06:59:32"
      ]
     },
     "execution_count": 11,
     "metadata": {},
     "output_type": "execute_result"
    }
   ],
   "source": [
    "x = df_dirt['CODLINHA'].to_numpy().copy()\n",
    "random.shuffle(x)\n",
    "\n",
    "\n",
    "df_dirt[\"CODLINHA\"] = df_dirt[\"CODLINHA\"].mask(np.random.choice([True, False], size=df_dirt['NOMELINHA'].count(), p=[.05,.95]) == True, x)\n",
    "df_dirt.head(20)"
   ]
  },
  {
   "cell_type": "markdown",
   "metadata": {},
   "source": [
    "## nomelinha dirt:20%"
   ]
  },
  {
   "cell_type": "code",
   "execution_count": 12,
   "metadata": {},
   "outputs": [
    {
     "data": {
      "text/html": [
       "<div>\n",
       "<style scoped>\n",
       "    .dataframe tbody tr th:only-of-type {\n",
       "        vertical-align: middle;\n",
       "    }\n",
       "\n",
       "    .dataframe tbody tr th {\n",
       "        vertical-align: top;\n",
       "    }\n",
       "\n",
       "    .dataframe thead th {\n",
       "        text-align: right;\n",
       "    }\n",
       "</style>\n",
       "<table border=\"1\" class=\"dataframe\">\n",
       "  <thead>\n",
       "    <tr style=\"text-align: right;\">\n",
       "      <th></th>\n",
       "      <th>CODLINHA</th>\n",
       "      <th>NOMELINHA</th>\n",
       "      <th>CODVEICULO</th>\n",
       "      <th>NUMEROCARTAO</th>\n",
       "      <th>DATAUTILIZACAO</th>\n",
       "    </tr>\n",
       "  </thead>\n",
       "  <tbody>\n",
       "    <tr>\n",
       "      <th>0</th>\n",
       "      <td>ARA</td>\n",
       "      <td>SISTEMA ARAUCARIA</td>\n",
       "      <td>00181</td>\n",
       "      <td>2624774</td>\n",
       "      <td>20/10/15 17:35:27</td>\n",
       "    </tr>\n",
       "    <tr>\n",
       "      <th>1</th>\n",
       "      <td>ARA</td>\n",
       "      <td>SISTEMA ARAUCARIA</td>\n",
       "      <td>00994</td>\n",
       "      <td>2575080</td>\n",
       "      <td>20/10/15 18:25:34</td>\n",
       "    </tr>\n",
       "    <tr>\n",
       "      <th>2</th>\n",
       "      <td>ARA</td>\n",
       "      <td>SISTEMA ARAUCARIA</td>\n",
       "      <td>00232</td>\n",
       "      <td>2849283</td>\n",
       "      <td>20/10/15 09:49:50</td>\n",
       "    </tr>\n",
       "    <tr>\n",
       "      <th>3</th>\n",
       "      <td>ARA</td>\n",
       "      <td>SISTEMA ARAUCARIA</td>\n",
       "      <td>00232</td>\n",
       "      <td>1502669</td>\n",
       "      <td>20/10/15 13:07:02</td>\n",
       "    </tr>\n",
       "    <tr>\n",
       "      <th>4</th>\n",
       "      <td>000</td>\n",
       "      <td>SISTEMA ARAUCARIA</td>\n",
       "      <td>00998</td>\n",
       "      <td>3535943</td>\n",
       "      <td>20/10/15 09:55:50</td>\n",
       "    </tr>\n",
       "    <tr>\n",
       "      <th>5</th>\n",
       "      <td>ARA</td>\n",
       "      <td>SISTEMA ARAUCARIA</td>\n",
       "      <td>00998</td>\n",
       "      <td>3496859</td>\n",
       "      <td>20/10/15 12:37:20</td>\n",
       "    </tr>\n",
       "    <tr>\n",
       "      <th>6</th>\n",
       "      <td>ARA</td>\n",
       "      <td>SISTEMA ARAUCARIA</td>\n",
       "      <td>00998</td>\n",
       "      <td>2883869</td>\n",
       "      <td>20/10/15 13:21:18</td>\n",
       "    </tr>\n",
       "    <tr>\n",
       "      <th>7</th>\n",
       "      <td>ARA</td>\n",
       "      <td>SISTEMA ARAUCARIA</td>\n",
       "      <td>00998</td>\n",
       "      <td>1484432</td>\n",
       "      <td>20/10/15 14:28:42</td>\n",
       "    </tr>\n",
       "    <tr>\n",
       "      <th>8</th>\n",
       "      <td>ARA</td>\n",
       "      <td>SISTEMA ARAUCARIA</td>\n",
       "      <td>00230</td>\n",
       "      <td>2640737</td>\n",
       "      <td>20/10/15 13:32:22</td>\n",
       "    </tr>\n",
       "    <tr>\n",
       "      <th>9</th>\n",
       "      <td>ARA</td>\n",
       "      <td>SISTEMA ARAUCARIA</td>\n",
       "      <td>00230</td>\n",
       "      <td>2640737</td>\n",
       "      <td>20/10/15 13:32:27</td>\n",
       "    </tr>\n",
       "    <tr>\n",
       "      <th>10</th>\n",
       "      <td>ARA</td>\n",
       "      <td>FAZENDINHA/PUC</td>\n",
       "      <td>00999</td>\n",
       "      <td>2490976</td>\n",
       "      <td>20/10/15 12:16:05</td>\n",
       "    </tr>\n",
       "    <tr>\n",
       "      <th>11</th>\n",
       "      <td>ARA</td>\n",
       "      <td>SISTEMA ARAUCARIA</td>\n",
       "      <td>00204</td>\n",
       "      <td>3522169</td>\n",
       "      <td>20/10/15 07:15:04</td>\n",
       "    </tr>\n",
       "    <tr>\n",
       "      <th>12</th>\n",
       "      <td>ARA</td>\n",
       "      <td>SISTEMA ARAUCARIA</td>\n",
       "      <td>00200</td>\n",
       "      <td>3388484</td>\n",
       "      <td>20/10/15 06:44:02</td>\n",
       "    </tr>\n",
       "    <tr>\n",
       "      <th>13</th>\n",
       "      <td>ARA</td>\n",
       "      <td>SISTEMA ARAUCARIA</td>\n",
       "      <td>00234</td>\n",
       "      <td>2761958</td>\n",
       "      <td>20/10/15 05:03:58</td>\n",
       "    </tr>\n",
       "    <tr>\n",
       "      <th>14</th>\n",
       "      <td>ARA</td>\n",
       "      <td>OPER S/LINHA</td>\n",
       "      <td>00234</td>\n",
       "      <td>2684491</td>\n",
       "      <td>20/10/15 06:27:09</td>\n",
       "    </tr>\n",
       "    <tr>\n",
       "      <th>15</th>\n",
       "      <td>ARA</td>\n",
       "      <td>SISTEMA ARAUCARIA</td>\n",
       "      <td>00238</td>\n",
       "      <td>2805444</td>\n",
       "      <td>20/10/15 05:29:17</td>\n",
       "    </tr>\n",
       "    <tr>\n",
       "      <th>16</th>\n",
       "      <td>ARA</td>\n",
       "      <td>SISTEMA ARAUCARIA</td>\n",
       "      <td>00238</td>\n",
       "      <td>2729517</td>\n",
       "      <td>20/10/15 06:58:16</td>\n",
       "    </tr>\n",
       "    <tr>\n",
       "      <th>17</th>\n",
       "      <td>ARA</td>\n",
       "      <td>SISTEMA ARAUCARIA</td>\n",
       "      <td>00238</td>\n",
       "      <td>3193356</td>\n",
       "      <td>20/10/15 08:27:32</td>\n",
       "    </tr>\n",
       "    <tr>\n",
       "      <th>18</th>\n",
       "      <td>ARA</td>\n",
       "      <td>SISTEMA ARAUCARIA</td>\n",
       "      <td>00238</td>\n",
       "      <td>2539145</td>\n",
       "      <td>20/10/15 08:31:11</td>\n",
       "    </tr>\n",
       "    <tr>\n",
       "      <th>19</th>\n",
       "      <td>ARA</td>\n",
       "      <td>SISTEMA ARAUCARIA</td>\n",
       "      <td>00238</td>\n",
       "      <td>3164699</td>\n",
       "      <td>20/10/15 06:59:32</td>\n",
       "    </tr>\n",
       "  </tbody>\n",
       "</table>\n",
       "</div>"
      ],
      "text/plain": [
       "   CODLINHA          NOMELINHA CODVEICULO NUMEROCARTAO     DATAUTILIZACAO\n",
       "0       ARA  SISTEMA ARAUCARIA      00181      2624774  20/10/15 17:35:27\n",
       "1       ARA  SISTEMA ARAUCARIA      00994      2575080  20/10/15 18:25:34\n",
       "2       ARA  SISTEMA ARAUCARIA      00232      2849283  20/10/15 09:49:50\n",
       "3       ARA  SISTEMA ARAUCARIA      00232      1502669  20/10/15 13:07:02\n",
       "4       000  SISTEMA ARAUCARIA      00998      3535943  20/10/15 09:55:50\n",
       "5       ARA  SISTEMA ARAUCARIA      00998      3496859  20/10/15 12:37:20\n",
       "6       ARA  SISTEMA ARAUCARIA      00998      2883869  20/10/15 13:21:18\n",
       "7       ARA  SISTEMA ARAUCARIA      00998      1484432  20/10/15 14:28:42\n",
       "8       ARA  SISTEMA ARAUCARIA      00230      2640737  20/10/15 13:32:22\n",
       "9       ARA  SISTEMA ARAUCARIA      00230      2640737  20/10/15 13:32:27\n",
       "10      ARA     FAZENDINHA/PUC      00999      2490976  20/10/15 12:16:05\n",
       "11      ARA  SISTEMA ARAUCARIA      00204      3522169  20/10/15 07:15:04\n",
       "12      ARA  SISTEMA ARAUCARIA      00200      3388484  20/10/15 06:44:02\n",
       "13      ARA  SISTEMA ARAUCARIA      00234      2761958  20/10/15 05:03:58\n",
       "14      ARA       OPER S/LINHA      00234      2684491  20/10/15 06:27:09\n",
       "15      ARA  SISTEMA ARAUCARIA      00238      2805444  20/10/15 05:29:17\n",
       "16      ARA  SISTEMA ARAUCARIA      00238      2729517  20/10/15 06:58:16\n",
       "17      ARA  SISTEMA ARAUCARIA      00238      3193356  20/10/15 08:27:32\n",
       "18      ARA  SISTEMA ARAUCARIA      00238      2539145  20/10/15 08:31:11\n",
       "19      ARA  SISTEMA ARAUCARIA      00238      3164699  20/10/15 06:59:32"
      ]
     },
     "execution_count": 12,
     "metadata": {},
     "output_type": "execute_result"
    }
   ],
   "source": [
    "x = df_dirt['NOMELINHA'].to_numpy().copy()\n",
    "random.shuffle(x)\n",
    "\n",
    "\n",
    "df_dirt[\"NOMELINHA\"] = df_dirt[\"NOMELINHA\"].mask(np.random.choice([True, False], size=df_dirt['NOMELINHA'].count(), p=[.1,.9]) == True, x)\n",
    "df_dirt.head(20)"
   ]
  },
  {
   "cell_type": "markdown",
   "metadata": {},
   "source": [
    "## codveiculo dirt:10%"
   ]
  },
  {
   "cell_type": "code",
   "execution_count": null,
   "metadata": {
    "scrolled": false
   },
   "outputs": [
    {
     "name": "stderr",
     "output_type": "stream",
     "text": [
      "100%|██████████| 512013/512013 [00:48<00:00, 10557.37it/s]\n"
     ]
    }
   ],
   "source": [
    "x=[]\n",
    "for i in tqdm(range(512013)):\n",
    "    new = rstr.xeger(r'(\\d\\d|[A-Z][A-Z])(\\d){3}')\n",
    "    x.extend([new])\n",
    "\n",
    "df_dirt[\"CODVEICULO\"] = df_dirt[\"CODVEICULO\"].mask(np.random.choice([True, False], size=df_dirt['NOMELINHA'].count(), p=[.05,.95]) == True, x)\n",
    "df_dirt.head(20)"
   ]
  },
  {
   "cell_type": "markdown",
   "metadata": {},
   "source": [
    "## numero cartao dirt: 20% (consistency & conformity)"
   ]
  },
  {
   "cell_type": "code",
   "execution_count": null,
   "metadata": {},
   "outputs": [],
   "source": [
    "x=[]\n",
    "for i in tqdm(range(512013)):\n",
    "    new = rstr.xeger(r'(\\d){1,13}(\\w){0,1}')\n",
    "    x.extend([new])\n",
    "\n",
    "df_dirt[\"NUMEROCARTAO\"] = df_dirt[\"NUMEROCARTAO\"].mask(np.random.choice([True, False], size=df_dirt['NOMELINHA'].count(), p=[.1,.9]) == True, x)\n",
    "df_dirt.head(20)"
   ]
  },
  {
   "cell_type": "markdown",
   "metadata": {},
   "source": [
    "## data utilizacao dirt:20%"
   ]
  },
  {
   "cell_type": "code",
   "execution_count": null,
   "metadata": {},
   "outputs": [],
   "source": [
    "x=[]\n",
    "for i in tqdm(range(512013)):\n",
    "    new = rstr.xeger(r'(0[1-9]|[12][0-9]|3[01])/(0[1-9]|1[0-2])/\\d\\d (00|0[0-9]|1[0-9]|2[0-3]):(0[0-9]|[0-5][0-9]):(0[0-9]|[0-5][0-9])')\n",
    "    x.extend([new])\n",
    "\n",
    "df_dirt[\"DATAUTILIZACAO\"] = df_dirt[\"DATAUTILIZACAO\"].mask(np.random.choice([True, False], size=df_dirt['NOMELINHA'].count(), p=[.1,.9]) == True, x)\n",
    "df_dirt.head(20)"
   ]
  },
  {
   "cell_type": "markdown",
   "metadata": {},
   "source": [
    "# Conformity"
   ]
  },
  {
   "cell_type": "markdown",
   "metadata": {},
   "source": [
    "## codlinha dirt: 10%"
   ]
  },
  {
   "cell_type": "code",
   "execution_count": null,
   "metadata": {},
   "outputs": [],
   "source": [
    "x=[]\n",
    "for i in tqdm(range(512013)):\n",
    "    new = rstr.xeger(r'(\\d|[A-Z]){1,5}')\n",
    "    x.extend([new])\n",
    "\n",
    "df_dirt[\"CODLINHA\"] = df_dirt[\"CODLINHA\"].mask(np.random.choice([True, False], size=df_dirt['NOMELINHA'].count(), p=[.05,.95]) == True, x)\n",
    "df_dirt.head(20)"
   ]
  },
  {
   "cell_type": "markdown",
   "metadata": {},
   "source": [
    "## codveiculo dirt: 10%"
   ]
  },
  {
   "cell_type": "code",
   "execution_count": null,
   "metadata": {},
   "outputs": [],
   "source": [
    "x=[]\n",
    "for i in tqdm(range(512013)):\n",
    "    new = rstr.xeger(r'(\\d|[A-Z]){0,1}(\\d\\d|[A-Z][A-Z]|\\d[A-Z])(\\d){3}(\\d|[A-Z]){0,1}')\n",
    "    x.extend([new])\n",
    "\n",
    "df_dirt[\"CODVEICULO\"] = df_dirt[\"CODVEICULO\"].mask(np.random.choice([True, False], size=df_dirt['NOMELINHA'].count(), p=[.05,.95]) == True, x)\n",
    "df_dirt.head(20)"
   ]
  },
  {
   "cell_type": "markdown",
   "metadata": {},
   "source": [
    "## data utilizacao dirt:10%"
   ]
  },
  {
   "cell_type": "code",
   "execution_count": null,
   "metadata": {},
   "outputs": [],
   "source": [
    "x=[]\n",
    "#1981-09-24 19:30:20\n",
    "for i in tqdm(range(212013)):\n",
    "    new = rstr.xeger(r'[12][0-9][0-9][0-9]-(0?[1-9]|1[0-2])-(0?[1-9]|[12][0-9]|3[01]) (00|0?[0-9]|1[0-9]|2[0-3]):(0?[0-9]|[0-5][0-9]):(0?[0-9]|[0-5][0-9])')\n",
    "    x.extend([new])\n",
    "#24-09-81 19:30:20\n",
    "for i in tqdm(range(100000)):\n",
    "    new = rstr.xeger(r'(0?[1-9]|[12][0-9]|3[01])-(0?[1-9]|1[0-2])-\\d\\d (00|0?[0-9]|1[0-9]|2[0-3]):(0?[0-9]|[0-5][0-9]):(0?[0-9]|[0-5][0-9])')\n",
    "    x.extend([new])\n",
    "#07-10-15 19:30:20\n",
    "for i in tqdm(range(100000)):\n",
    "    new = rstr.xeger(r'20-10-15 (00|0?[0-9]|1[0-9]|2[0-3]):(0?[0-9]|[0-5][0-9]):(0?[0-9]|[0-5][0-9])')\n",
    "    x.extend([new])\n",
    "#2015-10-07 19:30:20\n",
    "for i in tqdm(range(100000)):\n",
    "    new = rstr.xeger(r'2015-10-20 (00|0?[0-9]|1[0-9]|2[0-3]):(0?[0-9]|[0-5][0-9]):(0?[0-9]|[0-5][0-9])')\n",
    "    x.extend([new])\n",
    "\n",
    "df_dirt[\"DATAUTILIZACAO\"] = df_dirt[\"DATAUTILIZACAO\"].mask(np.random.choice([True, False], size=df_dirt['NOMELINHA'].count(), p=[.05,.95]) == True, x)\n",
    "df_dirt.head(20)"
   ]
  },
  {
   "cell_type": "markdown",
   "metadata": {},
   "source": [
    "# Completeness 10%"
   ]
  },
  {
   "cell_type": "code",
   "execution_count": null,
   "metadata": {},
   "outputs": [],
   "source": [
    "df_dirt = df_dirt.mask(np.random.choice([True, False], size=df_dirt.shape, p=[.05,.95]))\n",
    "df_dirt.head(20)"
   ]
  },
  {
   "cell_type": "markdown",
   "metadata": {},
   "source": [
    "# Check completeness"
   ]
  },
  {
   "cell_type": "code",
   "execution_count": null,
   "metadata": {},
   "outputs": [],
   "source": [
    "df_dirt['null-values'] = df_dirt.isnull().sum(axis=1)\n",
    "df_dirt.head(20)"
   ]
  },
  {
   "cell_type": "code",
   "execution_count": null,
   "metadata": {},
   "outputs": [],
   "source": [
    "conditions = [\n",
    "    df_dirt['null-values'] == 0,\n",
    "    df_dirt['null-values'] == 1,\n",
    "    df_dirt['null-values'] == 2,\n",
    "    df_dirt['null-values'] == 3,\n",
    "    df_dirt['null-values'] == 4]\n",
    "choices = [100, 80, 60, 40, 20]\n",
    "df_dirt['COMPLETENESS'] = np.select(conditions, choices, default=0)\n",
    "\n",
    "df_dirt.head(20)"
   ]
  },
  {
   "cell_type": "code",
   "execution_count": null,
   "metadata": {},
   "outputs": [],
   "source": [
    "df_dirt = df_dirt.drop(['null-values'], axis=1)\n",
    "df_dirt.head(5)"
   ]
  },
  {
   "cell_type": "markdown",
   "metadata": {},
   "source": [
    "# Check consistency"
   ]
  },
  {
   "cell_type": "markdown",
   "metadata": {},
   "source": [
    "## Lista linea"
   ]
  },
  {
   "cell_type": "code",
   "execution_count": null,
   "metadata": {},
   "outputs": [],
   "source": [
    "list_linha = pd.read_csv(\"../csv-aggiuntivi/doc2-2015102121/list_linha.csv\", index_col=\"CODLINHA\")\n",
    "list_linha.head(5)"
   ]
  },
  {
   "cell_type": "code",
   "execution_count": null,
   "metadata": {
    "scrolled": true
   },
   "outputs": [],
   "source": [
    "for i,row in tqdm(df_dirt.iterrows()):\n",
    "    if (pd.isnull(row[\"CODLINHA\"]) or pd.isnull(row[\"NOMELINHA\"])):\n",
    "        df_dirt.at[i, 'CHECK-LIST-LINHA'] = 0\n",
    "    else:\n",
    "        try:\n",
    "            row_list_linha = list_linha.loc[row[\"CODLINHA\"]]\n",
    "            if row_list_linha[\"NOMELINHA\"] == row[\"NOMELINHA\"]:\n",
    "                df_dirt.at[i, 'CHECK-LIST-LINHA'] = 1\n",
    "            else:\n",
    "                df_dirt.at[i, 'CHECK-LIST-LINHA'] = 0\n",
    "        except:\n",
    "            df_dirt.at[i, 'CHECK-LIST-LINHA'] = 0\n",
    "        \n",
    "df_dirt.head(10)"
   ]
  },
  {
   "cell_type": "markdown",
   "metadata": {},
   "source": [
    "## codlinha"
   ]
  },
  {
   "cell_type": "code",
   "execution_count": null,
   "metadata": {
    "scrolled": true
   },
   "outputs": [],
   "source": [
    "for i,row in tqdm(df_dirt.iterrows()):\n",
    "    if pd.isnull(row[\"CODLINHA\"]):\n",
    "        df_dirt.at[i, 'CHECK-CODLINHA'] = 0\n",
    "    else:\n",
    "        try:\n",
    "            row_list_linha = list_linha.loc[row[\"CODLINHA\"]]\n",
    "            df_dirt.at[i, 'CHECK-CODLINHA'] = 1\n",
    "        except:\n",
    "            df_dirt.at[i, 'CHECK-CODLINHA'] = 0\n",
    "        \n",
    "df_dirt.head(10)"
   ]
  },
  {
   "cell_type": "markdown",
   "metadata": {},
   "source": [
    "## nomelinha"
   ]
  },
  {
   "cell_type": "code",
   "execution_count": null,
   "metadata": {},
   "outputs": [],
   "source": [
    "list_linha = pd.read_csv(\"../csv-aggiuntivi/doc2-2015102121/list_linha.csv\", index_col=\"NOMELINHA\")\n",
    "list_linha.head(5)"
   ]
  },
  {
   "cell_type": "code",
   "execution_count": null,
   "metadata": {},
   "outputs": [],
   "source": [
    "for i,row in tqdm(df_dirt.iterrows()):\n",
    "    if pd.isnull(row[\"NOMELINHA\"]):\n",
    "        df_dirt.at[i, 'CHECK-NOMELINHA'] = 0\n",
    "    else:\n",
    "        try:\n",
    "            row_list_linha = list_linha.loc[row[\"NOMELINHA\"]]\n",
    "            df_dirt.at[i, 'CHECK-NOMELINHA'] = 1\n",
    "        except:\n",
    "            df_dirt.at[i, 'CHECK-NOMELINHA'] = 0\n",
    "        \n",
    "df_dirt.head(10)"
   ]
  },
  {
   "cell_type": "markdown",
   "metadata": {},
   "source": [
    "## codveiculo"
   ]
  },
  {
   "cell_type": "code",
   "execution_count": null,
   "metadata": {},
   "outputs": [],
   "source": [
    "list_vehicle = pd.read_csv(\"../csv-aggiuntivi/doc2-2015102121/list_vehicle.csv\", index_col=\"CODVEICULO\")\n",
    "list_vehicle.head(5)"
   ]
  },
  {
   "cell_type": "code",
   "execution_count": null,
   "metadata": {},
   "outputs": [],
   "source": [
    "for i,row in tqdm(df_dirt.iterrows()):\n",
    "    if pd.isnull(row[\"CODVEICULO\"]):\n",
    "        df_dirt.at[i, 'CHECK-CODVEICULO'] = 0\n",
    "    else:\n",
    "        try:\n",
    "            row_list_vehicle = list_vehicle.loc[row[\"CODVEICULO\"]]\n",
    "            df_dirt.at[i, 'CHECK-CODVEICULO'] = 1\n",
    "        except:\n",
    "            df_dirt.at[i, 'CHECK-CODVEICULO'] = 0\n",
    "        \n",
    "df_dirt.head(10)"
   ]
  },
  {
   "cell_type": "markdown",
   "metadata": {},
   "source": [
    "## datautilizacao"
   ]
  },
  {
   "cell_type": "code",
   "execution_count": null,
   "metadata": {},
   "outputs": [],
   "source": [
    "import re\n",
    "def is_sameday(str_datetime): #consistency datetime\n",
    "    a = re.search(\"^20/10/15 (00|0?[0-9]|1[0-9]|2[0-3]):(0?[0-9]|[0-5][0-9]):(0?[0-9]|[0-5][0-9])$\", str_datetime)\n",
    "    b = re.search(\"^20-10-15 (00|0?[0-9]|1[0-9]|2[0-3]):(0?[0-9]|[0-5][0-9]):(0?[0-9]|[0-5][0-9])$\", str_datetime)\n",
    "    c = re.search(\"^2015-10-20 (00|0?[0-9]|1[0-9]|2[0-3]):(0?[0-9]|[0-5][0-9]):(0?[0-9]|[0-5][0-9])$\", str_datetime)\n",
    "    return a,b,c"
   ]
  },
  {
   "cell_type": "code",
   "execution_count": null,
   "metadata": {},
   "outputs": [],
   "source": [
    "for i,row in tqdm(df_dirt.iterrows()):\n",
    "    if pd.isnull(row[\"DATAUTILIZACAO\"]):\n",
    "        df_dirt.at[i, 'CHECK-DATA'] = 0\n",
    "    else:\n",
    "        a,b,c = is_sameday(row[\"DATAUTILIZACAO\"])\n",
    "        if a or b or c:\n",
    "            df_dirt.at[i, 'CHECK-DATA'] = 1\n",
    "        else:\n",
    "            df_dirt.at[i, 'CHECK-DATA'] = 0\n",
    "        \n",
    "df_dirt.head(10)"
   ]
  },
  {
   "cell_type": "markdown",
   "metadata": {},
   "source": [
    "## TOT Consistency"
   ]
  },
  {
   "cell_type": "code",
   "execution_count": null,
   "metadata": {},
   "outputs": [],
   "source": [
    "for i,row in tqdm(df_dirt.iterrows()):\n",
    "    df_dirt.at[i, 'TOT'] = row[\"CHECK-LIST-LINHA\"] + row[\"CHECK-CODLINHA\"] + row[\"CHECK-NOMELINHA\"] + row[\"CHECK-CODVEICULO\"] + row[\"CHECK-DATA\"]\n",
    "    \n",
    "df_dirt.head(5)"
   ]
  },
  {
   "cell_type": "code",
   "execution_count": null,
   "metadata": {},
   "outputs": [],
   "source": [
    "conditions = [\n",
    "    df_dirt['TOT'] == 5.0,\n",
    "    df_dirt['TOT'] == 4.0,\n",
    "    df_dirt['TOT'] == 3.0,\n",
    "    df_dirt['TOT'] == 2.0,\n",
    "    df_dirt['TOT'] == 1.0]\n",
    "choices = [100, 80, 60, 40, 20]\n",
    "df_dirt['CONSISTENCY'] = np.select(conditions, choices, default=0)\n",
    "\n",
    "df_dirt.head(5)"
   ]
  },
  {
   "cell_type": "code",
   "execution_count": null,
   "metadata": {},
   "outputs": [],
   "source": [
    "df_dirt = df_dirt.drop(['CHECK-LIST-LINHA'], axis=1)\n",
    "df_dirt = df_dirt.drop(['CHECK-CODLINHA'], axis=1)\n",
    "df_dirt = df_dirt.drop(['CHECK-NOMELINHA'], axis=1)\n",
    "df_dirt = df_dirt.drop(['CHECK-CODVEICULO'], axis=1)\n",
    "df_dirt = df_dirt.drop(['CHECK-DATA'], axis=1)\n",
    "df_dirt = df_dirt.drop(['TOT'], axis=1)\n",
    "df_dirt.head(5)"
   ]
  },
  {
   "cell_type": "markdown",
   "metadata": {},
   "source": [
    "# Conformity"
   ]
  },
  {
   "cell_type": "markdown",
   "metadata": {},
   "source": [
    "## codlinha"
   ]
  },
  {
   "cell_type": "code",
   "execution_count": null,
   "metadata": {},
   "outputs": [],
   "source": [
    "def is_codlinha(str_datetime):\n",
    "    return re.search(\"^(\\d|[A-Z]){3}$\", str_datetime)"
   ]
  },
  {
   "cell_type": "code",
   "execution_count": null,
   "metadata": {},
   "outputs": [],
   "source": [
    "for i,row in tqdm(df_dirt.iterrows()):\n",
    "    if pd.isnull(row[\"CODLINHA\"]):\n",
    "        df_dirt.at[i, 'CONF-CODLINHA'] = 0\n",
    "    else:\n",
    "        a = is_codlinha(row[\"CODLINHA\"])\n",
    "        if a:\n",
    "            df_dirt.at[i, 'CONF-CODLINHA'] = 1\n",
    "        else:\n",
    "            df_dirt.at[i, 'CONF-CODLINHA'] = 0\n",
    "        \n",
    "df_dirt.head(10)"
   ]
  },
  {
   "cell_type": "markdown",
   "metadata": {},
   "source": [
    "## codveiculo"
   ]
  },
  {
   "cell_type": "code",
   "execution_count": null,
   "metadata": {},
   "outputs": [],
   "source": [
    "def is_codveiculo(str_datetime):\n",
    "    return re.search(\"^(\\d\\d|[A-Z][A-Z])(\\d){3}$\", str_datetime)"
   ]
  },
  {
   "cell_type": "code",
   "execution_count": null,
   "metadata": {},
   "outputs": [],
   "source": [
    "for i,row in tqdm(df_dirt.iterrows()):\n",
    "    if pd.isnull(row[\"CODVEICULO\"]):\n",
    "        df_dirt.at[i, 'CONF-CODVEICULO'] = 0\n",
    "    else:\n",
    "        a = is_codveiculo(row[\"CODVEICULO\"])\n",
    "        if a:\n",
    "            df_dirt.at[i, 'CONF-CODVEICULO'] = 1\n",
    "        else:\n",
    "            df_dirt.at[i, 'CONF-CODVEICULO'] = 0\n",
    "        \n",
    "df_dirt.head(10)"
   ]
  },
  {
   "cell_type": "markdown",
   "metadata": {},
   "source": [
    "## numerocartao"
   ]
  },
  {
   "cell_type": "code",
   "execution_count": null,
   "metadata": {},
   "outputs": [],
   "source": [
    "def is_numerocartao(str_datetime):\n",
    "    return re.search(\"^(\\d){1,10}$\", str_datetime)"
   ]
  },
  {
   "cell_type": "code",
   "execution_count": null,
   "metadata": {},
   "outputs": [],
   "source": [
    "for i,row in tqdm(df_dirt.iterrows()):\n",
    "    if pd.isnull(row[\"NUMEROCARTAO\"]):\n",
    "        df_dirt.at[i, 'CONF-NUMEROCARTAO'] = 0\n",
    "    else:\n",
    "        a = is_numerocartao(row[\"NUMEROCARTAO\"])\n",
    "        if a:\n",
    "            df_dirt.at[i, 'CONF-NUMEROCARTAO'] = 1\n",
    "        else:\n",
    "            df_dirt.at[i, 'CONF-NUMEROCARTAO'] = 0\n",
    "        \n",
    "df_dirt.head(10)"
   ]
  },
  {
   "cell_type": "markdown",
   "metadata": {},
   "source": [
    "## data utilizacao"
   ]
  },
  {
   "cell_type": "code",
   "execution_count": null,
   "metadata": {},
   "outputs": [],
   "source": [
    "def is_strdate(str_datetime): #conformity datetime\n",
    "    return re.search(\"^(0?[1-9]|[12][0-9]|3[01])/(0?[1-9]|1[0-2])/\\d\\d (00|0?[0-9]|1[0-9]|2[0-3]):(0?[0-9]|[0-5][0-9]):(0?[0-9]|[0-5][0-9])$\", str_datetime)"
   ]
  },
  {
   "cell_type": "code",
   "execution_count": null,
   "metadata": {},
   "outputs": [],
   "source": [
    "for i,row in tqdm(df_dirt.iterrows()):\n",
    "    if pd.isnull(row[\"DATAUTILIZACAO\"]):\n",
    "        df_dirt.at[i, 'CONF-DATAUTILIZACAO'] = 0\n",
    "    else:\n",
    "        a = is_strdate(row[\"DATAUTILIZACAO\"])\n",
    "        if a:\n",
    "            df_dirt.at[i, 'CONF-DATAUTILIZACAO'] = 1\n",
    "        else:\n",
    "            df_dirt.at[i, 'CONF-DATAUTILIZACAO'] = 0\n",
    "        \n",
    "df_dirt.head(10)"
   ]
  },
  {
   "cell_type": "markdown",
   "metadata": {},
   "source": [
    "## TOT Conformity"
   ]
  },
  {
   "cell_type": "code",
   "execution_count": null,
   "metadata": {},
   "outputs": [],
   "source": [
    "for i,row in tqdm(df_dirt.iterrows()):\n",
    "    df_dirt.at[i, 'TOT'] = row[\"CONF-CODLINHA\"] + row[\"CONF-CODVEICULO\"] + row[\"CONF-NUMEROCARTAO\"] + row[\"CONF-DATAUTILIZACAO\"]\n",
    "    \n",
    "df_dirt.head(5)"
   ]
  },
  {
   "cell_type": "code",
   "execution_count": null,
   "metadata": {},
   "outputs": [],
   "source": [
    "conditions = [\n",
    "    df_dirt['TOT'] == 4.0,\n",
    "    df_dirt['TOT'] == 3.0,\n",
    "    df_dirt['TOT'] == 2.0,\n",
    "    df_dirt['TOT'] == 1.0]\n",
    "choices = [100, 75, 50, 25]\n",
    "df_dirt['CONFORMITY'] = np.select(conditions, choices, default=0)\n",
    "\n",
    "df_dirt.head(5)"
   ]
  },
  {
   "cell_type": "code",
   "execution_count": null,
   "metadata": {
    "scrolled": true
   },
   "outputs": [],
   "source": [
    "df_dirt = df_dirt.drop(['CONF-CODLINHA'], axis=1)\n",
    "df_dirt = df_dirt.drop(['CONF-CODVEICULO'], axis=1)\n",
    "df_dirt = df_dirt.drop(['CONF-NUMEROCARTAO'], axis=1)\n",
    "df_dirt = df_dirt.drop(['CONF-DATAUTILIZACAO'], axis=1)\n",
    "df_dirt = df_dirt.drop(['TOT'], axis=1)\n",
    "df_dirt.head(5)"
   ]
  },
  {
   "cell_type": "code",
   "execution_count": null,
   "metadata": {},
   "outputs": [],
   "source": [
    "df_dirt.head(40)"
   ]
  },
  {
   "cell_type": "code",
   "execution_count": null,
   "metadata": {},
   "outputs": [],
   "source": [
    "df_dirt.to_csv('../Dati-sporchi/doc2-2015102121-Dirt.csv', index=False)"
   ]
  },
  {
   "cell_type": "code",
   "execution_count": null,
   "metadata": {},
   "outputs": [],
   "source": [
    "summary_df = df_dirt.describe()\n",
    "summary_df"
   ]
  },
  {
   "cell_type": "code",
   "execution_count": null,
   "metadata": {},
   "outputs": [],
   "source": []
  }
 ],
 "metadata": {
  "kernelspec": {
   "display_name": "Python 3",
   "language": "python",
   "name": "python3"
  },
  "language_info": {
   "codemirror_mode": {
    "name": "ipython",
    "version": 3
   },
   "file_extension": ".py",
   "mimetype": "text/x-python",
   "name": "python",
   "nbconvert_exporter": "python",
   "pygments_lexer": "ipython3",
   "version": "3.6.8"
  }
 },
 "nbformat": 4,
 "nbformat_minor": 2
}
